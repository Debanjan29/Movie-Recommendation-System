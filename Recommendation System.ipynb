{
 "cells": [
  {
   "cell_type": "code",
   "execution_count": 1,
   "id": "cd76af5b",
   "metadata": {},
   "outputs": [],
   "source": [
    "import numpy as np\n",
    "import pandas as pd"
   ]
  },
  {
   "cell_type": "code",
   "execution_count": 2,
   "id": "9382f1d1",
   "metadata": {},
   "outputs": [],
   "source": [
    "movies=pd.read_csv('tmdb_5000_movies.csv')\n",
    "credit=pd.read_csv('tmdb_5000_credits.csv')"
   ]
  },
  {
   "cell_type": "code",
   "execution_count": 3,
   "id": "f747e017",
   "metadata": {},
   "outputs": [
    {
     "data": {
      "text/html": [
       "<div>\n",
       "<style scoped>\n",
       "    .dataframe tbody tr th:only-of-type {\n",
       "        vertical-align: middle;\n",
       "    }\n",
       "\n",
       "    .dataframe tbody tr th {\n",
       "        vertical-align: top;\n",
       "    }\n",
       "\n",
       "    .dataframe thead th {\n",
       "        text-align: right;\n",
       "    }\n",
       "</style>\n",
       "<table border=\"1\" class=\"dataframe\">\n",
       "  <thead>\n",
       "    <tr style=\"text-align: right;\">\n",
       "      <th></th>\n",
       "      <th>movie_id</th>\n",
       "      <th>title</th>\n",
       "      <th>cast</th>\n",
       "      <th>crew</th>\n",
       "    </tr>\n",
       "  </thead>\n",
       "  <tbody>\n",
       "    <tr>\n",
       "      <th>0</th>\n",
       "      <td>19995</td>\n",
       "      <td>Avatar</td>\n",
       "      <td>[{\"cast_id\": 242, \"character\": \"Jake Sully\", \"...</td>\n",
       "      <td>[{\"credit_id\": \"52fe48009251416c750aca23\", \"de...</td>\n",
       "    </tr>\n",
       "    <tr>\n",
       "      <th>1</th>\n",
       "      <td>285</td>\n",
       "      <td>Pirates of the Caribbean: At World's End</td>\n",
       "      <td>[{\"cast_id\": 4, \"character\": \"Captain Jack Spa...</td>\n",
       "      <td>[{\"credit_id\": \"52fe4232c3a36847f800b579\", \"de...</td>\n",
       "    </tr>\n",
       "    <tr>\n",
       "      <th>2</th>\n",
       "      <td>206647</td>\n",
       "      <td>Spectre</td>\n",
       "      <td>[{\"cast_id\": 1, \"character\": \"James Bond\", \"cr...</td>\n",
       "      <td>[{\"credit_id\": \"54805967c3a36829b5002c41\", \"de...</td>\n",
       "    </tr>\n",
       "    <tr>\n",
       "      <th>3</th>\n",
       "      <td>49026</td>\n",
       "      <td>The Dark Knight Rises</td>\n",
       "      <td>[{\"cast_id\": 2, \"character\": \"Bruce Wayne / Ba...</td>\n",
       "      <td>[{\"credit_id\": \"52fe4781c3a36847f81398c3\", \"de...</td>\n",
       "    </tr>\n",
       "    <tr>\n",
       "      <th>4</th>\n",
       "      <td>49529</td>\n",
       "      <td>John Carter</td>\n",
       "      <td>[{\"cast_id\": 5, \"character\": \"John Carter\", \"c...</td>\n",
       "      <td>[{\"credit_id\": \"52fe479ac3a36847f813eaa3\", \"de...</td>\n",
       "    </tr>\n",
       "  </tbody>\n",
       "</table>\n",
       "</div>"
      ],
      "text/plain": [
       "   movie_id                                     title  \\\n",
       "0     19995                                    Avatar   \n",
       "1       285  Pirates of the Caribbean: At World's End   \n",
       "2    206647                                   Spectre   \n",
       "3     49026                     The Dark Knight Rises   \n",
       "4     49529                               John Carter   \n",
       "\n",
       "                                                cast  \\\n",
       "0  [{\"cast_id\": 242, \"character\": \"Jake Sully\", \"...   \n",
       "1  [{\"cast_id\": 4, \"character\": \"Captain Jack Spa...   \n",
       "2  [{\"cast_id\": 1, \"character\": \"James Bond\", \"cr...   \n",
       "3  [{\"cast_id\": 2, \"character\": \"Bruce Wayne / Ba...   \n",
       "4  [{\"cast_id\": 5, \"character\": \"John Carter\", \"c...   \n",
       "\n",
       "                                                crew  \n",
       "0  [{\"credit_id\": \"52fe48009251416c750aca23\", \"de...  \n",
       "1  [{\"credit_id\": \"52fe4232c3a36847f800b579\", \"de...  \n",
       "2  [{\"credit_id\": \"54805967c3a36829b5002c41\", \"de...  \n",
       "3  [{\"credit_id\": \"52fe4781c3a36847f81398c3\", \"de...  \n",
       "4  [{\"credit_id\": \"52fe479ac3a36847f813eaa3\", \"de...  "
      ]
     },
     "execution_count": 3,
     "metadata": {},
     "output_type": "execute_result"
    }
   ],
   "source": [
    "credit.head()"
   ]
  },
  {
   "cell_type": "code",
   "execution_count": 4,
   "id": "11b57f5f",
   "metadata": {},
   "outputs": [],
   "source": [
    "movies=movies.merge(credit,on='title')"
   ]
  },
  {
   "cell_type": "code",
   "execution_count": 5,
   "id": "965b9a55",
   "metadata": {
    "scrolled": true
   },
   "outputs": [
    {
     "data": {
      "text/html": [
       "<div>\n",
       "<style scoped>\n",
       "    .dataframe tbody tr th:only-of-type {\n",
       "        vertical-align: middle;\n",
       "    }\n",
       "\n",
       "    .dataframe tbody tr th {\n",
       "        vertical-align: top;\n",
       "    }\n",
       "\n",
       "    .dataframe thead th {\n",
       "        text-align: right;\n",
       "    }\n",
       "</style>\n",
       "<table border=\"1\" class=\"dataframe\">\n",
       "  <thead>\n",
       "    <tr style=\"text-align: right;\">\n",
       "      <th></th>\n",
       "      <th>budget</th>\n",
       "      <th>genres</th>\n",
       "      <th>homepage</th>\n",
       "      <th>id</th>\n",
       "      <th>keywords</th>\n",
       "      <th>original_language</th>\n",
       "      <th>original_title</th>\n",
       "      <th>overview</th>\n",
       "      <th>popularity</th>\n",
       "      <th>production_companies</th>\n",
       "      <th>...</th>\n",
       "      <th>runtime</th>\n",
       "      <th>spoken_languages</th>\n",
       "      <th>status</th>\n",
       "      <th>tagline</th>\n",
       "      <th>title</th>\n",
       "      <th>vote_average</th>\n",
       "      <th>vote_count</th>\n",
       "      <th>movie_id</th>\n",
       "      <th>cast</th>\n",
       "      <th>crew</th>\n",
       "    </tr>\n",
       "  </thead>\n",
       "  <tbody>\n",
       "    <tr>\n",
       "      <th>0</th>\n",
       "      <td>237000000</td>\n",
       "      <td>[{\"id\": 28, \"name\": \"Action\"}, {\"id\": 12, \"nam...</td>\n",
       "      <td>http://www.avatarmovie.com/</td>\n",
       "      <td>19995</td>\n",
       "      <td>[{\"id\": 1463, \"name\": \"culture clash\"}, {\"id\":...</td>\n",
       "      <td>en</td>\n",
       "      <td>Avatar</td>\n",
       "      <td>In the 22nd century, a paraplegic Marine is di...</td>\n",
       "      <td>150.437577</td>\n",
       "      <td>[{\"name\": \"Ingenious Film Partners\", \"id\": 289...</td>\n",
       "      <td>...</td>\n",
       "      <td>162.0</td>\n",
       "      <td>[{\"iso_639_1\": \"en\", \"name\": \"English\"}, {\"iso...</td>\n",
       "      <td>Released</td>\n",
       "      <td>Enter the World of Pandora.</td>\n",
       "      <td>Avatar</td>\n",
       "      <td>7.2</td>\n",
       "      <td>11800</td>\n",
       "      <td>19995</td>\n",
       "      <td>[{\"cast_id\": 242, \"character\": \"Jake Sully\", \"...</td>\n",
       "      <td>[{\"credit_id\": \"52fe48009251416c750aca23\", \"de...</td>\n",
       "    </tr>\n",
       "    <tr>\n",
       "      <th>1</th>\n",
       "      <td>300000000</td>\n",
       "      <td>[{\"id\": 12, \"name\": \"Adventure\"}, {\"id\": 14, \"...</td>\n",
       "      <td>http://disney.go.com/disneypictures/pirates/</td>\n",
       "      <td>285</td>\n",
       "      <td>[{\"id\": 270, \"name\": \"ocean\"}, {\"id\": 726, \"na...</td>\n",
       "      <td>en</td>\n",
       "      <td>Pirates of the Caribbean: At World's End</td>\n",
       "      <td>Captain Barbossa, long believed to be dead, ha...</td>\n",
       "      <td>139.082615</td>\n",
       "      <td>[{\"name\": \"Walt Disney Pictures\", \"id\": 2}, {\"...</td>\n",
       "      <td>...</td>\n",
       "      <td>169.0</td>\n",
       "      <td>[{\"iso_639_1\": \"en\", \"name\": \"English\"}]</td>\n",
       "      <td>Released</td>\n",
       "      <td>At the end of the world, the adventure begins.</td>\n",
       "      <td>Pirates of the Caribbean: At World's End</td>\n",
       "      <td>6.9</td>\n",
       "      <td>4500</td>\n",
       "      <td>285</td>\n",
       "      <td>[{\"cast_id\": 4, \"character\": \"Captain Jack Spa...</td>\n",
       "      <td>[{\"credit_id\": \"52fe4232c3a36847f800b579\", \"de...</td>\n",
       "    </tr>\n",
       "    <tr>\n",
       "      <th>2</th>\n",
       "      <td>245000000</td>\n",
       "      <td>[{\"id\": 28, \"name\": \"Action\"}, {\"id\": 12, \"nam...</td>\n",
       "      <td>http://www.sonypictures.com/movies/spectre/</td>\n",
       "      <td>206647</td>\n",
       "      <td>[{\"id\": 470, \"name\": \"spy\"}, {\"id\": 818, \"name...</td>\n",
       "      <td>en</td>\n",
       "      <td>Spectre</td>\n",
       "      <td>A cryptic message from Bond’s past sends him o...</td>\n",
       "      <td>107.376788</td>\n",
       "      <td>[{\"name\": \"Columbia Pictures\", \"id\": 5}, {\"nam...</td>\n",
       "      <td>...</td>\n",
       "      <td>148.0</td>\n",
       "      <td>[{\"iso_639_1\": \"fr\", \"name\": \"Fran\\u00e7ais\"},...</td>\n",
       "      <td>Released</td>\n",
       "      <td>A Plan No One Escapes</td>\n",
       "      <td>Spectre</td>\n",
       "      <td>6.3</td>\n",
       "      <td>4466</td>\n",
       "      <td>206647</td>\n",
       "      <td>[{\"cast_id\": 1, \"character\": \"James Bond\", \"cr...</td>\n",
       "      <td>[{\"credit_id\": \"54805967c3a36829b5002c41\", \"de...</td>\n",
       "    </tr>\n",
       "    <tr>\n",
       "      <th>3</th>\n",
       "      <td>250000000</td>\n",
       "      <td>[{\"id\": 28, \"name\": \"Action\"}, {\"id\": 80, \"nam...</td>\n",
       "      <td>http://www.thedarkknightrises.com/</td>\n",
       "      <td>49026</td>\n",
       "      <td>[{\"id\": 849, \"name\": \"dc comics\"}, {\"id\": 853,...</td>\n",
       "      <td>en</td>\n",
       "      <td>The Dark Knight Rises</td>\n",
       "      <td>Following the death of District Attorney Harve...</td>\n",
       "      <td>112.312950</td>\n",
       "      <td>[{\"name\": \"Legendary Pictures\", \"id\": 923}, {\"...</td>\n",
       "      <td>...</td>\n",
       "      <td>165.0</td>\n",
       "      <td>[{\"iso_639_1\": \"en\", \"name\": \"English\"}]</td>\n",
       "      <td>Released</td>\n",
       "      <td>The Legend Ends</td>\n",
       "      <td>The Dark Knight Rises</td>\n",
       "      <td>7.6</td>\n",
       "      <td>9106</td>\n",
       "      <td>49026</td>\n",
       "      <td>[{\"cast_id\": 2, \"character\": \"Bruce Wayne / Ba...</td>\n",
       "      <td>[{\"credit_id\": \"52fe4781c3a36847f81398c3\", \"de...</td>\n",
       "    </tr>\n",
       "    <tr>\n",
       "      <th>4</th>\n",
       "      <td>260000000</td>\n",
       "      <td>[{\"id\": 28, \"name\": \"Action\"}, {\"id\": 12, \"nam...</td>\n",
       "      <td>http://movies.disney.com/john-carter</td>\n",
       "      <td>49529</td>\n",
       "      <td>[{\"id\": 818, \"name\": \"based on novel\"}, {\"id\":...</td>\n",
       "      <td>en</td>\n",
       "      <td>John Carter</td>\n",
       "      <td>John Carter is a war-weary, former military ca...</td>\n",
       "      <td>43.926995</td>\n",
       "      <td>[{\"name\": \"Walt Disney Pictures\", \"id\": 2}]</td>\n",
       "      <td>...</td>\n",
       "      <td>132.0</td>\n",
       "      <td>[{\"iso_639_1\": \"en\", \"name\": \"English\"}]</td>\n",
       "      <td>Released</td>\n",
       "      <td>Lost in our world, found in another.</td>\n",
       "      <td>John Carter</td>\n",
       "      <td>6.1</td>\n",
       "      <td>2124</td>\n",
       "      <td>49529</td>\n",
       "      <td>[{\"cast_id\": 5, \"character\": \"John Carter\", \"c...</td>\n",
       "      <td>[{\"credit_id\": \"52fe479ac3a36847f813eaa3\", \"de...</td>\n",
       "    </tr>\n",
       "  </tbody>\n",
       "</table>\n",
       "<p>5 rows × 23 columns</p>\n",
       "</div>"
      ],
      "text/plain": [
       "      budget                                             genres  \\\n",
       "0  237000000  [{\"id\": 28, \"name\": \"Action\"}, {\"id\": 12, \"nam...   \n",
       "1  300000000  [{\"id\": 12, \"name\": \"Adventure\"}, {\"id\": 14, \"...   \n",
       "2  245000000  [{\"id\": 28, \"name\": \"Action\"}, {\"id\": 12, \"nam...   \n",
       "3  250000000  [{\"id\": 28, \"name\": \"Action\"}, {\"id\": 80, \"nam...   \n",
       "4  260000000  [{\"id\": 28, \"name\": \"Action\"}, {\"id\": 12, \"nam...   \n",
       "\n",
       "                                       homepage      id  \\\n",
       "0                   http://www.avatarmovie.com/   19995   \n",
       "1  http://disney.go.com/disneypictures/pirates/     285   \n",
       "2   http://www.sonypictures.com/movies/spectre/  206647   \n",
       "3            http://www.thedarkknightrises.com/   49026   \n",
       "4          http://movies.disney.com/john-carter   49529   \n",
       "\n",
       "                                            keywords original_language  \\\n",
       "0  [{\"id\": 1463, \"name\": \"culture clash\"}, {\"id\":...                en   \n",
       "1  [{\"id\": 270, \"name\": \"ocean\"}, {\"id\": 726, \"na...                en   \n",
       "2  [{\"id\": 470, \"name\": \"spy\"}, {\"id\": 818, \"name...                en   \n",
       "3  [{\"id\": 849, \"name\": \"dc comics\"}, {\"id\": 853,...                en   \n",
       "4  [{\"id\": 818, \"name\": \"based on novel\"}, {\"id\":...                en   \n",
       "\n",
       "                             original_title  \\\n",
       "0                                    Avatar   \n",
       "1  Pirates of the Caribbean: At World's End   \n",
       "2                                   Spectre   \n",
       "3                     The Dark Knight Rises   \n",
       "4                               John Carter   \n",
       "\n",
       "                                            overview  popularity  \\\n",
       "0  In the 22nd century, a paraplegic Marine is di...  150.437577   \n",
       "1  Captain Barbossa, long believed to be dead, ha...  139.082615   \n",
       "2  A cryptic message from Bond’s past sends him o...  107.376788   \n",
       "3  Following the death of District Attorney Harve...  112.312950   \n",
       "4  John Carter is a war-weary, former military ca...   43.926995   \n",
       "\n",
       "                                production_companies  ... runtime  \\\n",
       "0  [{\"name\": \"Ingenious Film Partners\", \"id\": 289...  ...   162.0   \n",
       "1  [{\"name\": \"Walt Disney Pictures\", \"id\": 2}, {\"...  ...   169.0   \n",
       "2  [{\"name\": \"Columbia Pictures\", \"id\": 5}, {\"nam...  ...   148.0   \n",
       "3  [{\"name\": \"Legendary Pictures\", \"id\": 923}, {\"...  ...   165.0   \n",
       "4        [{\"name\": \"Walt Disney Pictures\", \"id\": 2}]  ...   132.0   \n",
       "\n",
       "                                    spoken_languages    status  \\\n",
       "0  [{\"iso_639_1\": \"en\", \"name\": \"English\"}, {\"iso...  Released   \n",
       "1           [{\"iso_639_1\": \"en\", \"name\": \"English\"}]  Released   \n",
       "2  [{\"iso_639_1\": \"fr\", \"name\": \"Fran\\u00e7ais\"},...  Released   \n",
       "3           [{\"iso_639_1\": \"en\", \"name\": \"English\"}]  Released   \n",
       "4           [{\"iso_639_1\": \"en\", \"name\": \"English\"}]  Released   \n",
       "\n",
       "                                          tagline  \\\n",
       "0                     Enter the World of Pandora.   \n",
       "1  At the end of the world, the adventure begins.   \n",
       "2                           A Plan No One Escapes   \n",
       "3                                 The Legend Ends   \n",
       "4            Lost in our world, found in another.   \n",
       "\n",
       "                                      title vote_average vote_count movie_id  \\\n",
       "0                                    Avatar          7.2      11800    19995   \n",
       "1  Pirates of the Caribbean: At World's End          6.9       4500      285   \n",
       "2                                   Spectre          6.3       4466   206647   \n",
       "3                     The Dark Knight Rises          7.6       9106    49026   \n",
       "4                               John Carter          6.1       2124    49529   \n",
       "\n",
       "                                                cast  \\\n",
       "0  [{\"cast_id\": 242, \"character\": \"Jake Sully\", \"...   \n",
       "1  [{\"cast_id\": 4, \"character\": \"Captain Jack Spa...   \n",
       "2  [{\"cast_id\": 1, \"character\": \"James Bond\", \"cr...   \n",
       "3  [{\"cast_id\": 2, \"character\": \"Bruce Wayne / Ba...   \n",
       "4  [{\"cast_id\": 5, \"character\": \"John Carter\", \"c...   \n",
       "\n",
       "                                                crew  \n",
       "0  [{\"credit_id\": \"52fe48009251416c750aca23\", \"de...  \n",
       "1  [{\"credit_id\": \"52fe4232c3a36847f800b579\", \"de...  \n",
       "2  [{\"credit_id\": \"54805967c3a36829b5002c41\", \"de...  \n",
       "3  [{\"credit_id\": \"52fe4781c3a36847f81398c3\", \"de...  \n",
       "4  [{\"credit_id\": \"52fe479ac3a36847f813eaa3\", \"de...  \n",
       "\n",
       "[5 rows x 23 columns]"
      ]
     },
     "execution_count": 5,
     "metadata": {},
     "output_type": "execute_result"
    }
   ],
   "source": [
    "movies.head()"
   ]
  },
  {
   "cell_type": "code",
   "execution_count": 6,
   "id": "44d4f91b",
   "metadata": {},
   "outputs": [
    {
     "name": "stdout",
     "output_type": "stream",
     "text": [
      "<class 'pandas.core.frame.DataFrame'>\n",
      "Int64Index: 4809 entries, 0 to 4808\n",
      "Data columns (total 23 columns):\n",
      " #   Column                Non-Null Count  Dtype  \n",
      "---  ------                --------------  -----  \n",
      " 0   budget                4809 non-null   int64  \n",
      " 1   genres                4809 non-null   object \n",
      " 2   homepage              1713 non-null   object \n",
      " 3   id                    4809 non-null   int64  \n",
      " 4   keywords              4809 non-null   object \n",
      " 5   original_language     4809 non-null   object \n",
      " 6   original_title        4809 non-null   object \n",
      " 7   overview              4806 non-null   object \n",
      " 8   popularity            4809 non-null   float64\n",
      " 9   production_companies  4809 non-null   object \n",
      " 10  production_countries  4809 non-null   object \n",
      " 11  release_date          4808 non-null   object \n",
      " 12  revenue               4809 non-null   int64  \n",
      " 13  runtime               4807 non-null   float64\n",
      " 14  spoken_languages      4809 non-null   object \n",
      " 15  status                4809 non-null   object \n",
      " 16  tagline               3965 non-null   object \n",
      " 17  title                 4809 non-null   object \n",
      " 18  vote_average          4809 non-null   float64\n",
      " 19  vote_count            4809 non-null   int64  \n",
      " 20  movie_id              4809 non-null   int64  \n",
      " 21  cast                  4809 non-null   object \n",
      " 22  crew                  4809 non-null   object \n",
      "dtypes: float64(3), int64(5), object(15)\n",
      "memory usage: 901.7+ KB\n"
     ]
    }
   ],
   "source": [
    "movies.info()"
   ]
  },
  {
   "cell_type": "code",
   "execution_count": 7,
   "id": "f7dc6fc9",
   "metadata": {},
   "outputs": [],
   "source": [
    "# Movies\n",
    "# genre\n",
    "# id ('to get a pic from net')\n",
    "# Keywords\n",
    "# production_countries\n",
    "# release_date\n",
    "# cast\n",
    "# crew"
   ]
  },
  {
   "cell_type": "code",
   "execution_count": 8,
   "id": "7f07b486",
   "metadata": {},
   "outputs": [],
   "source": [
    "movies=movies[['movie_id','title','overview','production_countries','genres','keywords','cast','crew']]"
   ]
  },
  {
   "cell_type": "code",
   "execution_count": 9,
   "id": "1dbf8e60",
   "metadata": {},
   "outputs": [
    {
     "data": {
      "text/html": [
       "<div>\n",
       "<style scoped>\n",
       "    .dataframe tbody tr th:only-of-type {\n",
       "        vertical-align: middle;\n",
       "    }\n",
       "\n",
       "    .dataframe tbody tr th {\n",
       "        vertical-align: top;\n",
       "    }\n",
       "\n",
       "    .dataframe thead th {\n",
       "        text-align: right;\n",
       "    }\n",
       "</style>\n",
       "<table border=\"1\" class=\"dataframe\">\n",
       "  <thead>\n",
       "    <tr style=\"text-align: right;\">\n",
       "      <th></th>\n",
       "      <th>movie_id</th>\n",
       "      <th>title</th>\n",
       "      <th>overview</th>\n",
       "      <th>production_countries</th>\n",
       "      <th>genres</th>\n",
       "      <th>keywords</th>\n",
       "      <th>cast</th>\n",
       "      <th>crew</th>\n",
       "    </tr>\n",
       "  </thead>\n",
       "  <tbody>\n",
       "    <tr>\n",
       "      <th>0</th>\n",
       "      <td>19995</td>\n",
       "      <td>Avatar</td>\n",
       "      <td>In the 22nd century, a paraplegic Marine is di...</td>\n",
       "      <td>[{\"iso_3166_1\": \"US\", \"name\": \"United States o...</td>\n",
       "      <td>[{\"id\": 28, \"name\": \"Action\"}, {\"id\": 12, \"nam...</td>\n",
       "      <td>[{\"id\": 1463, \"name\": \"culture clash\"}, {\"id\":...</td>\n",
       "      <td>[{\"cast_id\": 242, \"character\": \"Jake Sully\", \"...</td>\n",
       "      <td>[{\"credit_id\": \"52fe48009251416c750aca23\", \"de...</td>\n",
       "    </tr>\n",
       "    <tr>\n",
       "      <th>1</th>\n",
       "      <td>285</td>\n",
       "      <td>Pirates of the Caribbean: At World's End</td>\n",
       "      <td>Captain Barbossa, long believed to be dead, ha...</td>\n",
       "      <td>[{\"iso_3166_1\": \"US\", \"name\": \"United States o...</td>\n",
       "      <td>[{\"id\": 12, \"name\": \"Adventure\"}, {\"id\": 14, \"...</td>\n",
       "      <td>[{\"id\": 270, \"name\": \"ocean\"}, {\"id\": 726, \"na...</td>\n",
       "      <td>[{\"cast_id\": 4, \"character\": \"Captain Jack Spa...</td>\n",
       "      <td>[{\"credit_id\": \"52fe4232c3a36847f800b579\", \"de...</td>\n",
       "    </tr>\n",
       "    <tr>\n",
       "      <th>2</th>\n",
       "      <td>206647</td>\n",
       "      <td>Spectre</td>\n",
       "      <td>A cryptic message from Bond’s past sends him o...</td>\n",
       "      <td>[{\"iso_3166_1\": \"GB\", \"name\": \"United Kingdom\"...</td>\n",
       "      <td>[{\"id\": 28, \"name\": \"Action\"}, {\"id\": 12, \"nam...</td>\n",
       "      <td>[{\"id\": 470, \"name\": \"spy\"}, {\"id\": 818, \"name...</td>\n",
       "      <td>[{\"cast_id\": 1, \"character\": \"James Bond\", \"cr...</td>\n",
       "      <td>[{\"credit_id\": \"54805967c3a36829b5002c41\", \"de...</td>\n",
       "    </tr>\n",
       "    <tr>\n",
       "      <th>3</th>\n",
       "      <td>49026</td>\n",
       "      <td>The Dark Knight Rises</td>\n",
       "      <td>Following the death of District Attorney Harve...</td>\n",
       "      <td>[{\"iso_3166_1\": \"US\", \"name\": \"United States o...</td>\n",
       "      <td>[{\"id\": 28, \"name\": \"Action\"}, {\"id\": 80, \"nam...</td>\n",
       "      <td>[{\"id\": 849, \"name\": \"dc comics\"}, {\"id\": 853,...</td>\n",
       "      <td>[{\"cast_id\": 2, \"character\": \"Bruce Wayne / Ba...</td>\n",
       "      <td>[{\"credit_id\": \"52fe4781c3a36847f81398c3\", \"de...</td>\n",
       "    </tr>\n",
       "    <tr>\n",
       "      <th>4</th>\n",
       "      <td>49529</td>\n",
       "      <td>John Carter</td>\n",
       "      <td>John Carter is a war-weary, former military ca...</td>\n",
       "      <td>[{\"iso_3166_1\": \"US\", \"name\": \"United States o...</td>\n",
       "      <td>[{\"id\": 28, \"name\": \"Action\"}, {\"id\": 12, \"nam...</td>\n",
       "      <td>[{\"id\": 818, \"name\": \"based on novel\"}, {\"id\":...</td>\n",
       "      <td>[{\"cast_id\": 5, \"character\": \"John Carter\", \"c...</td>\n",
       "      <td>[{\"credit_id\": \"52fe479ac3a36847f813eaa3\", \"de...</td>\n",
       "    </tr>\n",
       "  </tbody>\n",
       "</table>\n",
       "</div>"
      ],
      "text/plain": [
       "   movie_id                                     title  \\\n",
       "0     19995                                    Avatar   \n",
       "1       285  Pirates of the Caribbean: At World's End   \n",
       "2    206647                                   Spectre   \n",
       "3     49026                     The Dark Knight Rises   \n",
       "4     49529                               John Carter   \n",
       "\n",
       "                                            overview  \\\n",
       "0  In the 22nd century, a paraplegic Marine is di...   \n",
       "1  Captain Barbossa, long believed to be dead, ha...   \n",
       "2  A cryptic message from Bond’s past sends him o...   \n",
       "3  Following the death of District Attorney Harve...   \n",
       "4  John Carter is a war-weary, former military ca...   \n",
       "\n",
       "                                production_countries  \\\n",
       "0  [{\"iso_3166_1\": \"US\", \"name\": \"United States o...   \n",
       "1  [{\"iso_3166_1\": \"US\", \"name\": \"United States o...   \n",
       "2  [{\"iso_3166_1\": \"GB\", \"name\": \"United Kingdom\"...   \n",
       "3  [{\"iso_3166_1\": \"US\", \"name\": \"United States o...   \n",
       "4  [{\"iso_3166_1\": \"US\", \"name\": \"United States o...   \n",
       "\n",
       "                                              genres  \\\n",
       "0  [{\"id\": 28, \"name\": \"Action\"}, {\"id\": 12, \"nam...   \n",
       "1  [{\"id\": 12, \"name\": \"Adventure\"}, {\"id\": 14, \"...   \n",
       "2  [{\"id\": 28, \"name\": \"Action\"}, {\"id\": 12, \"nam...   \n",
       "3  [{\"id\": 28, \"name\": \"Action\"}, {\"id\": 80, \"nam...   \n",
       "4  [{\"id\": 28, \"name\": \"Action\"}, {\"id\": 12, \"nam...   \n",
       "\n",
       "                                            keywords  \\\n",
       "0  [{\"id\": 1463, \"name\": \"culture clash\"}, {\"id\":...   \n",
       "1  [{\"id\": 270, \"name\": \"ocean\"}, {\"id\": 726, \"na...   \n",
       "2  [{\"id\": 470, \"name\": \"spy\"}, {\"id\": 818, \"name...   \n",
       "3  [{\"id\": 849, \"name\": \"dc comics\"}, {\"id\": 853,...   \n",
       "4  [{\"id\": 818, \"name\": \"based on novel\"}, {\"id\":...   \n",
       "\n",
       "                                                cast  \\\n",
       "0  [{\"cast_id\": 242, \"character\": \"Jake Sully\", \"...   \n",
       "1  [{\"cast_id\": 4, \"character\": \"Captain Jack Spa...   \n",
       "2  [{\"cast_id\": 1, \"character\": \"James Bond\", \"cr...   \n",
       "3  [{\"cast_id\": 2, \"character\": \"Bruce Wayne / Ba...   \n",
       "4  [{\"cast_id\": 5, \"character\": \"John Carter\", \"c...   \n",
       "\n",
       "                                                crew  \n",
       "0  [{\"credit_id\": \"52fe48009251416c750aca23\", \"de...  \n",
       "1  [{\"credit_id\": \"52fe4232c3a36847f800b579\", \"de...  \n",
       "2  [{\"credit_id\": \"54805967c3a36829b5002c41\", \"de...  \n",
       "3  [{\"credit_id\": \"52fe4781c3a36847f81398c3\", \"de...  \n",
       "4  [{\"credit_id\": \"52fe479ac3a36847f813eaa3\", \"de...  "
      ]
     },
     "execution_count": 9,
     "metadata": {},
     "output_type": "execute_result"
    }
   ],
   "source": [
    "movies.head()"
   ]
  },
  {
   "cell_type": "code",
   "execution_count": 10,
   "id": "82630d5f",
   "metadata": {},
   "outputs": [
    {
     "data": {
      "text/plain": [
       "'[{\"iso_3166_1\": \"GB\", \"name\": \"United Kingdom\"}, {\"iso_3166_1\": \"US\", \"name\": \"United States of America\"}]'"
      ]
     },
     "execution_count": 10,
     "metadata": {},
     "output_type": "execute_result"
    }
   ],
   "source": [
    "movies['production_countries'].values[2]"
   ]
  },
  {
   "cell_type": "code",
   "execution_count": 11,
   "id": "3b26f779",
   "metadata": {},
   "outputs": [
    {
     "data": {
      "text/plain": [
       "movie_id                0\n",
       "title                   0\n",
       "overview                3\n",
       "production_countries    0\n",
       "genres                  0\n",
       "keywords                0\n",
       "cast                    0\n",
       "crew                    0\n",
       "dtype: int64"
      ]
     },
     "execution_count": 11,
     "metadata": {},
     "output_type": "execute_result"
    }
   ],
   "source": [
    "movies.isnull().sum()"
   ]
  },
  {
   "cell_type": "code",
   "execution_count": 12,
   "id": "81d5aad9",
   "metadata": {
    "scrolled": true
   },
   "outputs": [],
   "source": [
    "movies.dropna(inplace=True)"
   ]
  },
  {
   "cell_type": "code",
   "execution_count": 13,
   "id": "17929222",
   "metadata": {},
   "outputs": [
    {
     "data": {
      "text/plain": [
       "0"
      ]
     },
     "execution_count": 13,
     "metadata": {},
     "output_type": "execute_result"
    }
   ],
   "source": [
    "movies.duplicated().sum()"
   ]
  },
  {
   "cell_type": "code",
   "execution_count": 14,
   "id": "39fad7fd",
   "metadata": {},
   "outputs": [],
   "source": [
    "# Preprocessing the Dataset"
   ]
  },
  {
   "cell_type": "code",
   "execution_count": 15,
   "id": "0aafba0f",
   "metadata": {},
   "outputs": [
    {
     "data": {
      "text/plain": [
       "0       [{\"id\": 28, \"name\": \"Action\"}, {\"id\": 12, \"nam...\n",
       "1       [{\"id\": 12, \"name\": \"Adventure\"}, {\"id\": 14, \"...\n",
       "2       [{\"id\": 28, \"name\": \"Action\"}, {\"id\": 12, \"nam...\n",
       "3       [{\"id\": 28, \"name\": \"Action\"}, {\"id\": 80, \"nam...\n",
       "4       [{\"id\": 28, \"name\": \"Action\"}, {\"id\": 12, \"nam...\n",
       "                              ...                        \n",
       "4804    [{\"id\": 28, \"name\": \"Action\"}, {\"id\": 80, \"nam...\n",
       "4805    [{\"id\": 35, \"name\": \"Comedy\"}, {\"id\": 10749, \"...\n",
       "4806    [{\"id\": 35, \"name\": \"Comedy\"}, {\"id\": 18, \"nam...\n",
       "4807                                                   []\n",
       "4808                  [{\"id\": 99, \"name\": \"Documentary\"}]\n",
       "Name: genres, Length: 4806, dtype: object"
      ]
     },
     "execution_count": 15,
     "metadata": {},
     "output_type": "execute_result"
    }
   ],
   "source": [
    "movies['genres']"
   ]
  },
  {
   "cell_type": "code",
   "execution_count": 16,
   "id": "3f72b643",
   "metadata": {},
   "outputs": [
    {
     "data": {
      "text/plain": [
       "'[{\"id\": 18, \"name\": \"Drama\"}, {\"id\": 10749, \"name\": \"Romance\"}, {\"id\": 53, \"name\": \"Thriller\"}]'"
      ]
     },
     "execution_count": 16,
     "metadata": {},
     "output_type": "execute_result"
    }
   ],
   "source": [
    "movies.iloc[25].genres"
   ]
  },
  {
   "cell_type": "code",
   "execution_count": 17,
   "id": "0118ed31",
   "metadata": {},
   "outputs": [],
   "source": [
    "# We need only the names"
   ]
  },
  {
   "cell_type": "code",
   "execution_count": 18,
   "id": "f513867a",
   "metadata": {},
   "outputs": [],
   "source": [
    "import ast # Converts set of string into List"
   ]
  },
  {
   "cell_type": "code",
   "execution_count": 19,
   "id": "946a4a61",
   "metadata": {},
   "outputs": [],
   "source": [
    "def convert(obj):\n",
    "    L=[]\n",
    "    for i in ast.literal_eval(obj):\n",
    "        L.append(i[\"name\"])\n",
    "    return L"
   ]
  },
  {
   "cell_type": "code",
   "execution_count": 20,
   "id": "d80e8d8c",
   "metadata": {},
   "outputs": [
    {
     "data": {
      "text/plain": [
       "['Drama', 'Romance', 'Thriller']"
      ]
     },
     "execution_count": 20,
     "metadata": {},
     "output_type": "execute_result"
    }
   ],
   "source": [
    "convert('[{\"id\": 18, \"name\": \"Drama\"}, {\"id\": 10749, \"name\": \"Romance\"}, {\"id\": 53, \"name\": \"Thriller\"}]')"
   ]
  },
  {
   "cell_type": "code",
   "execution_count": 21,
   "id": "4e29e7ff",
   "metadata": {},
   "outputs": [],
   "source": [
    "movies['genres']=movies['genres'].apply(convert)"
   ]
  },
  {
   "cell_type": "code",
   "execution_count": 22,
   "id": "89323ea3",
   "metadata": {},
   "outputs": [
    {
     "data": {
      "text/plain": [
       "'[{\"id\": 2580, \"name\": \"shipwreck\"}, {\"id\": 2984, \"name\": \"iceberg\"}, {\"id\": 3799, \"name\": \"ship\"}, {\"id\": 4210, \"name\": \"panic\"}, {\"id\": 4388, \"name\": \"titanic\"}, {\"id\": 4953, \"name\": \"ocean liner\"}, {\"id\": 6917, \"name\": \"epic\"}, {\"id\": 7579, \"name\": \"rich woman - poor man\"}, {\"id\": 9673, \"name\": \"love\"}, {\"id\": 10617, \"name\": \"disaster\"}, {\"id\": 10703, \"name\": \"tragic love\"}, {\"id\": 14514, \"name\": \"class differences\"}, {\"id\": 156395, \"name\": \"imax\"}, {\"id\": 165086, \"name\": \"star crossed lovers\"}, {\"id\": 182615, \"name\": \"steerage\"}, {\"id\": 182621, \"name\": \"salvage\"}, {\"id\": 182625, \"name\": \"rich snob\"}, {\"id\": 209714, \"name\": \"3d\"}, {\"id\": 210184, \"name\": \"1910s\"}]'"
      ]
     },
     "execution_count": 22,
     "metadata": {},
     "output_type": "execute_result"
    }
   ],
   "source": [
    "movies.iloc[25].keywords"
   ]
  },
  {
   "cell_type": "code",
   "execution_count": 23,
   "id": "4c85a65a",
   "metadata": {},
   "outputs": [],
   "source": [
    "movies['keywords']=movies['keywords'].apply(convert)"
   ]
  },
  {
   "cell_type": "code",
   "execution_count": 24,
   "id": "1a49dd61",
   "metadata": {},
   "outputs": [
    {
     "data": {
      "text/html": [
       "<div>\n",
       "<style scoped>\n",
       "    .dataframe tbody tr th:only-of-type {\n",
       "        vertical-align: middle;\n",
       "    }\n",
       "\n",
       "    .dataframe tbody tr th {\n",
       "        vertical-align: top;\n",
       "    }\n",
       "\n",
       "    .dataframe thead th {\n",
       "        text-align: right;\n",
       "    }\n",
       "</style>\n",
       "<table border=\"1\" class=\"dataframe\">\n",
       "  <thead>\n",
       "    <tr style=\"text-align: right;\">\n",
       "      <th></th>\n",
       "      <th>movie_id</th>\n",
       "      <th>title</th>\n",
       "      <th>overview</th>\n",
       "      <th>production_countries</th>\n",
       "      <th>genres</th>\n",
       "      <th>keywords</th>\n",
       "      <th>cast</th>\n",
       "      <th>crew</th>\n",
       "    </tr>\n",
       "  </thead>\n",
       "  <tbody>\n",
       "    <tr>\n",
       "      <th>0</th>\n",
       "      <td>19995</td>\n",
       "      <td>Avatar</td>\n",
       "      <td>In the 22nd century, a paraplegic Marine is di...</td>\n",
       "      <td>[{\"iso_3166_1\": \"US\", \"name\": \"United States o...</td>\n",
       "      <td>[Action, Adventure, Fantasy, Science Fiction]</td>\n",
       "      <td>[culture clash, future, space war, space colon...</td>\n",
       "      <td>[{\"cast_id\": 242, \"character\": \"Jake Sully\", \"...</td>\n",
       "      <td>[{\"credit_id\": \"52fe48009251416c750aca23\", \"de...</td>\n",
       "    </tr>\n",
       "    <tr>\n",
       "      <th>1</th>\n",
       "      <td>285</td>\n",
       "      <td>Pirates of the Caribbean: At World's End</td>\n",
       "      <td>Captain Barbossa, long believed to be dead, ha...</td>\n",
       "      <td>[{\"iso_3166_1\": \"US\", \"name\": \"United States o...</td>\n",
       "      <td>[Adventure, Fantasy, Action]</td>\n",
       "      <td>[ocean, drug abuse, exotic island, east india ...</td>\n",
       "      <td>[{\"cast_id\": 4, \"character\": \"Captain Jack Spa...</td>\n",
       "      <td>[{\"credit_id\": \"52fe4232c3a36847f800b579\", \"de...</td>\n",
       "    </tr>\n",
       "    <tr>\n",
       "      <th>2</th>\n",
       "      <td>206647</td>\n",
       "      <td>Spectre</td>\n",
       "      <td>A cryptic message from Bond’s past sends him o...</td>\n",
       "      <td>[{\"iso_3166_1\": \"GB\", \"name\": \"United Kingdom\"...</td>\n",
       "      <td>[Action, Adventure, Crime]</td>\n",
       "      <td>[spy, based on novel, secret agent, sequel, mi...</td>\n",
       "      <td>[{\"cast_id\": 1, \"character\": \"James Bond\", \"cr...</td>\n",
       "      <td>[{\"credit_id\": \"54805967c3a36829b5002c41\", \"de...</td>\n",
       "    </tr>\n",
       "    <tr>\n",
       "      <th>3</th>\n",
       "      <td>49026</td>\n",
       "      <td>The Dark Knight Rises</td>\n",
       "      <td>Following the death of District Attorney Harve...</td>\n",
       "      <td>[{\"iso_3166_1\": \"US\", \"name\": \"United States o...</td>\n",
       "      <td>[Action, Crime, Drama, Thriller]</td>\n",
       "      <td>[dc comics, crime fighter, terrorist, secret i...</td>\n",
       "      <td>[{\"cast_id\": 2, \"character\": \"Bruce Wayne / Ba...</td>\n",
       "      <td>[{\"credit_id\": \"52fe4781c3a36847f81398c3\", \"de...</td>\n",
       "    </tr>\n",
       "    <tr>\n",
       "      <th>4</th>\n",
       "      <td>49529</td>\n",
       "      <td>John Carter</td>\n",
       "      <td>John Carter is a war-weary, former military ca...</td>\n",
       "      <td>[{\"iso_3166_1\": \"US\", \"name\": \"United States o...</td>\n",
       "      <td>[Action, Adventure, Science Fiction]</td>\n",
       "      <td>[based on novel, mars, medallion, space travel...</td>\n",
       "      <td>[{\"cast_id\": 5, \"character\": \"John Carter\", \"c...</td>\n",
       "      <td>[{\"credit_id\": \"52fe479ac3a36847f813eaa3\", \"de...</td>\n",
       "    </tr>\n",
       "  </tbody>\n",
       "</table>\n",
       "</div>"
      ],
      "text/plain": [
       "   movie_id                                     title  \\\n",
       "0     19995                                    Avatar   \n",
       "1       285  Pirates of the Caribbean: At World's End   \n",
       "2    206647                                   Spectre   \n",
       "3     49026                     The Dark Knight Rises   \n",
       "4     49529                               John Carter   \n",
       "\n",
       "                                            overview  \\\n",
       "0  In the 22nd century, a paraplegic Marine is di...   \n",
       "1  Captain Barbossa, long believed to be dead, ha...   \n",
       "2  A cryptic message from Bond’s past sends him o...   \n",
       "3  Following the death of District Attorney Harve...   \n",
       "4  John Carter is a war-weary, former military ca...   \n",
       "\n",
       "                                production_countries  \\\n",
       "0  [{\"iso_3166_1\": \"US\", \"name\": \"United States o...   \n",
       "1  [{\"iso_3166_1\": \"US\", \"name\": \"United States o...   \n",
       "2  [{\"iso_3166_1\": \"GB\", \"name\": \"United Kingdom\"...   \n",
       "3  [{\"iso_3166_1\": \"US\", \"name\": \"United States o...   \n",
       "4  [{\"iso_3166_1\": \"US\", \"name\": \"United States o...   \n",
       "\n",
       "                                          genres  \\\n",
       "0  [Action, Adventure, Fantasy, Science Fiction]   \n",
       "1                   [Adventure, Fantasy, Action]   \n",
       "2                     [Action, Adventure, Crime]   \n",
       "3               [Action, Crime, Drama, Thriller]   \n",
       "4           [Action, Adventure, Science Fiction]   \n",
       "\n",
       "                                            keywords  \\\n",
       "0  [culture clash, future, space war, space colon...   \n",
       "1  [ocean, drug abuse, exotic island, east india ...   \n",
       "2  [spy, based on novel, secret agent, sequel, mi...   \n",
       "3  [dc comics, crime fighter, terrorist, secret i...   \n",
       "4  [based on novel, mars, medallion, space travel...   \n",
       "\n",
       "                                                cast  \\\n",
       "0  [{\"cast_id\": 242, \"character\": \"Jake Sully\", \"...   \n",
       "1  [{\"cast_id\": 4, \"character\": \"Captain Jack Spa...   \n",
       "2  [{\"cast_id\": 1, \"character\": \"James Bond\", \"cr...   \n",
       "3  [{\"cast_id\": 2, \"character\": \"Bruce Wayne / Ba...   \n",
       "4  [{\"cast_id\": 5, \"character\": \"John Carter\", \"c...   \n",
       "\n",
       "                                                crew  \n",
       "0  [{\"credit_id\": \"52fe48009251416c750aca23\", \"de...  \n",
       "1  [{\"credit_id\": \"52fe4232c3a36847f800b579\", \"de...  \n",
       "2  [{\"credit_id\": \"54805967c3a36829b5002c41\", \"de...  \n",
       "3  [{\"credit_id\": \"52fe4781c3a36847f81398c3\", \"de...  \n",
       "4  [{\"credit_id\": \"52fe479ac3a36847f813eaa3\", \"de...  "
      ]
     },
     "execution_count": 24,
     "metadata": {},
     "output_type": "execute_result"
    }
   ],
   "source": [
    "movies.head()"
   ]
  },
  {
   "cell_type": "code",
   "execution_count": 25,
   "id": "59b284a5",
   "metadata": {},
   "outputs": [
    {
     "data": {
      "text/plain": [
       "'[{\"cast_id\": 1, \"character\": \"Brian O\\'Conner\", \"credit_id\": \"52fe452fc3a36847f80c101b\", \"gender\": 2, \"id\": 8167, \"name\": \"Paul Walker\", \"order\": 0}, {\"cast_id\": 2, \"character\": \"Dominic Toretto\", \"credit_id\": \"52fe452fc3a36847f80c101f\", \"gender\": 2, \"id\": 12835, \"name\": \"Vin Diesel\", \"order\": 1}, {\"cast_id\": 3, \"character\": \"Letty Ortiz\", \"credit_id\": \"52fe452fc3a36847f80c1023\", \"gender\": 1, \"id\": 17647, \"name\": \"Michelle Rodriguez\", \"order\": 2}, {\"cast_id\": 4, \"character\": \"Mia Toretto\", \"credit_id\": \"52fe452fc3a36847f80c1027\", \"gender\": 1, \"id\": 22123, \"name\": \"Jordana Brewster\", \"order\": 3}, {\"cast_id\": 17, \"character\": \"Johnny Tran\", \"credit_id\": \"52fe452fc3a36847f80c1073\", \"gender\": 2, \"id\": 10883, \"name\": \"Rick Yune\", \"order\": 4}, {\"cast_id\": 18, \"character\": \"Jesse\", \"credit_id\": \"52fe452fc3a36847f80c1077\", \"gender\": 2, \"id\": 9186, \"name\": \"Chad Lindberg\", \"order\": 5}, {\"cast_id\": 19, \"character\": \"Leon\", \"credit_id\": \"52fe452fc3a36847f80c107b\", \"gender\": 2, \"id\": 12796, \"name\": \"Johnny Strong\", \"order\": 6}, {\"cast_id\": 21, \"character\": \"Sgt. Tanner\", \"credit_id\": \"52fe452fc3a36847f80c1083\", \"gender\": 2, \"id\": 15854, \"name\": \"Ted Levine\", \"order\": 7}, {\"cast_id\": 20, \"character\": \"Vince\", \"credit_id\": \"52fe452fc3a36847f80c107f\", \"gender\": 2, \"id\": 31841, \"name\": \"Matt Schulze\", \"order\": 8}, {\"cast_id\": 107, \"character\": \"Agent Bilkins\", \"credit_id\": \"55858dbac3a3683967000336\", \"gender\": 2, \"id\": 8175, \"name\": \"Thom Barry\", \"order\": 9}, {\"cast_id\": 22, \"character\": \"Edwin\", \"credit_id\": \"52fe452fc3a36847f80c1087\", \"gender\": 2, \"id\": 61658, \"name\": \"Ja Rule\", \"order\": 10}, {\"cast_id\": 23, \"character\": \"Harry\", \"credit_id\": \"52fe452fc3a36847f80c108b\", \"gender\": 2, \"id\": 61216, \"name\": \"Vyto Ruginis\", \"order\": 11}, {\"cast_id\": 114, \"character\": \"Muse\", \"credit_id\": \"558590af92514137be0004c1\", \"gender\": 0, \"id\": 1479424, \"name\": \"Stanton Rutledge\", \"order\": 12}, {\"cast_id\": 105, \"character\": \"Hector\", \"credit_id\": \"554fa6b09251413ea10004ef\", \"gender\": 2, \"id\": 53252, \"name\": \"Noel Gugliemi\", \"order\": 13}, {\"cast_id\": 115, \"character\": \"Danny Yamato\", \"credit_id\": \"558590d7c3a368274c00044c\", \"gender\": 0, \"id\": 1479425, \"name\": \"RJ de Vera\", \"order\": 14}, {\"cast_id\": 116, \"character\": \"Ted Gassner\", \"credit_id\": \"558590f992514137c1000590\", \"gender\": 2, \"id\": 1005339, \"name\": \"Beau Holden\", \"order\": 15}, {\"cast_id\": 117, \"character\": \"Lance Nguyen\", \"credit_id\": \"5585912dc3a368273b00044c\", \"gender\": 2, \"id\": 22075, \"name\": \"Reggie Lee\", \"order\": 16}, {\"cast_id\": 118, \"character\": \"Rasta Racer\", \"credit_id\": \"55859196c3a368274c000474\", \"gender\": 0, \"id\": 100538, \"name\": \"David Douglas\", \"order\": 17}, {\"cast_id\": 131, \"character\": \"Samoan Guard\", \"credit_id\": \"57997db2925141197c0000e1\", \"gender\": 2, \"id\": 84757, \"name\": \"Peter \\'Navy\\' Tuiasosopo\", \"order\": 18}, {\"cast_id\": 123, \"character\": \"Dispatcher\", \"credit_id\": \"5585921892514137c3000532\", \"gender\": 0, \"id\": 84064, \"name\": \"F. Valentino Morales\", \"order\": 19}, {\"cast_id\": 120, \"character\": \"Ferrari Driver\", \"credit_id\": \"558591c4c3a3682743000482\", \"gender\": 2, \"id\": 11874, \"name\": \"Neal H. Moritz\", \"order\": 20}, {\"cast_id\": 177, \"character\": \"Pizza Hut Delivery Guy\", \"credit_id\": \"58e59d0a92514128190333b4\", \"gender\": 2, \"id\": 18878, \"name\": \"Rob Cohen\", \"order\": 21}, {\"cast_id\": 178, \"character\": \"Big Rig Driver\", \"credit_id\": \"58e59d20c3a36872f6033c89\", \"gender\": 2, \"id\": 80406, \"name\": \"Kevin Smith\", \"order\": 22}, {\"cast_id\": 121, \"character\": \"Ferrari Passenger\", \"credit_id\": \"558591df92514137c10005bc\", \"gender\": 0, \"id\": 1479427, \"name\": \"Doria Clare Anselmo\", \"order\": 23}, {\"cast_id\": 122, \"character\": \"Johnny\\'s Father\", \"credit_id\": \"55859206c3a36827350004d8\", \"gender\": 0, \"id\": 1479428, \"name\": \"Glenn K. Ota\", \"order\": 24}, {\"cast_id\": 124, \"character\": \"Night Truck Driver\", \"credit_id\": \"5585924fc3a3682733000458\", \"gender\": 0, \"id\": 1479429, \"name\": \"Mike White\", \"order\": 25}, {\"cast_id\": 125, \"character\": \"Racer\\'s Edge Clerk\", \"credit_id\": \"55859263c3a368396700045b\", \"gender\": 1, \"id\": 106885, \"name\": \"Delphine Pacific\", \"order\": 26}, {\"cast_id\": 126, \"character\": \"Monica\", \"credit_id\": \"55859278c3a3682735000503\", \"gender\": 0, \"id\": 1479430, \"name\": \"Monica Tamayo\", \"order\": 27}, {\"cast_id\": 127, \"character\": \"Gimel\", \"credit_id\": \"55859284c3a368274c00049c\", \"gender\": 0, \"id\": 1479431, \"name\": \"Megan Baker\", \"order\": 28}, {\"cast_id\": 128, \"character\": \"Edwin\\'s Babe\", \"credit_id\": \"5585929dc3a368396700046a\", \"gender\": 0, \"id\": 1479432, \"name\": \"Tammy Monica Gegamian\", \"order\": 29}]'"
      ]
     },
     "execution_count": 25,
     "metadata": {},
     "output_type": "execute_result"
    }
   ],
   "source": [
    "movies['cast'][99]"
   ]
  },
  {
   "cell_type": "code",
   "execution_count": 26,
   "id": "fc8497dd",
   "metadata": {},
   "outputs": [],
   "source": [
    "movies['cast']=movies['cast'].apply(convert)"
   ]
  },
  {
   "cell_type": "code",
   "execution_count": 27,
   "id": "eab0f7b1",
   "metadata": {},
   "outputs": [
    {
     "data": {
      "text/plain": [
       "['Christian Bale',\n",
       " 'Michael Caine',\n",
       " 'Gary Oldman',\n",
       " 'Anne Hathaway',\n",
       " 'Tom Hardy',\n",
       " 'Marion Cotillard',\n",
       " 'Joseph Gordon-Levitt',\n",
       " 'Morgan Freeman',\n",
       " 'Cillian Murphy',\n",
       " 'Juno Temple',\n",
       " 'Liam Neeson',\n",
       " 'Matthew Modine',\n",
       " 'Alon Aboutboul',\n",
       " 'Ben Mendelsohn',\n",
       " 'Nestor Carbonell',\n",
       " 'Josh Pence',\n",
       " 'Tom Conti',\n",
       " 'Joey King',\n",
       " 'Warren Brown',\n",
       " 'Daniel Sunjata',\n",
       " 'Sam Kennard',\n",
       " 'Aliash Tepina',\n",
       " 'Nick Julian',\n",
       " 'Miranda Nolan',\n",
       " 'Claire Julien',\n",
       " 'Aidan Gillen',\n",
       " 'Burn Gorman',\n",
       " 'Brett Cullen',\n",
       " 'Reggie Lee',\n",
       " 'Joseph Lyle Taylor',\n",
       " 'Chris Ellis',\n",
       " 'Duane Henry',\n",
       " 'James Harvey Ward',\n",
       " 'Gonzalo Menendez',\n",
       " 'Cameron Jack',\n",
       " 'Lex Daniel',\n",
       " 'Tyler Dean Flores',\n",
       " 'Thomas Lennon',\n",
       " 'Trevor White',\n",
       " 'Rob Brown',\n",
       " 'Fredric Lehne',\n",
       " 'Courtney Munch',\n",
       " 'Chris Hill',\n",
       " 'Travis Guba',\n",
       " 'Jay Benedict',\n",
       " 'Will Estes',\n",
       " 'David Dayan Fisher',\n",
       " 'Glen Powell',\n",
       " 'Russ Fega',\n",
       " 'Andres Perez-Molina',\n",
       " 'Brent Briscoe',\n",
       " 'John Nolan',\n",
       " 'Oliver Cotton',\n",
       " 'Mark Killeen',\n",
       " 'Sarah Goldberg',\n",
       " 'John MacMillan',\n",
       " 'Robert Wisdom',\n",
       " 'Ronnie Gene Blevins',\n",
       " 'John Hollingworth',\n",
       " 'Ian Bohen',\n",
       " 'Uri Gavriel',\n",
       " 'Noel Gugliemi',\n",
       " 'Hector Atreyu Ruiz',\n",
       " 'Patrick Cox',\n",
       " 'Aramis Knight',\n",
       " 'Josh Stewart',\n",
       " 'William Devane',\n",
       " 'David Gyasi',\n",
       " 'Patrick Jordan',\n",
       " 'Joshua Elijah Reese',\n",
       " 'Desmond Harrington',\n",
       " 'Mychael Bates',\n",
       " 'Tomas Arana',\n",
       " 'Peter Holden',\n",
       " 'David Monahan',\n",
       " 'Jillian Armenante',\n",
       " 'Aja Evans',\n",
       " 'Aldous Davidson',\n",
       " 'Wade Williams',\n",
       " 'Jake Canuso',\n",
       " 'Massi Furlan',\n",
       " 'Christopher Judge',\n",
       " 'Patrick Leahy',\n",
       " 'Todd Gearhart',\n",
       " 'Marc Abbink',\n",
       " 'Isiah Adams',\n",
       " 'Charlie Alejandro',\n",
       " 'Robert Arensen',\n",
       " 'Grant Babbitt',\n",
       " 'Fileena Bahris',\n",
       " 'Rick Bolander',\n",
       " 'Kyle Patrick Brennan',\n",
       " 'Scott Churchson',\n",
       " 'Bill Cowher',\n",
       " 'Graham Curry',\n",
       " 'Stephanie Domini Ehlert',\n",
       " 'John Farrer',\n",
       " 'Frank Fata',\n",
       " 'Christopher Bryan Gomez',\n",
       " 'Vito Grassi',\n",
       " 'Michael Wren Gucciardo',\n",
       " 'Sam Harris',\n",
       " 'Ed Heavey',\n",
       " 'John W. Iwanonkiw',\n",
       " 'Cindy Jackson',\n",
       " 'Daniel Jordano',\n",
       " 'William Kania',\n",
       " 'Tiffany Kemp',\n",
       " 'Sun Jae Kim',\n",
       " 'Hrvoje Klecz',\n",
       " 'Alex Kruz',\n",
       " 'Tyler La Marr',\n",
       " 'LeJon',\n",
       " 'Paul Jude Letersky',\n",
       " 'Joe Lipari',\n",
       " 'Silvia Lombardo',\n",
       " 'Jorge Mardel',\n",
       " 'Cale McConnell',\n",
       " 'David Dale McCue',\n",
       " 'Tiffany Sander McKenzie',\n",
       " 'Allen Merritt',\n",
       " 'Olan Montgomery',\n",
       " 'Alex Moore',\n",
       " 'Shane Nolan',\n",
       " 'Jackson Nunn',\n",
       " \"Joseph O'Brien\",\n",
       " 'Michael Papajohn',\n",
       " 'Salomon Passariello',\n",
       " 'Kyle David Pierce',\n",
       " 'Troy Polamalu',\n",
       " 'Michael Power',\n",
       " 'James Rawlings',\n",
       " 'Kirsten Roeters',\n",
       " 'Ben Roethlisberger',\n",
       " 'Mark Roman',\n",
       " 'Anthony J. Sacco',\n",
       " 'Eric Salazar',\n",
       " 'Emily Schooley',\n",
       " 'Thomas Tull',\n",
       " 'Chris Vaina',\n",
       " 'Vincent van Ommen',\n",
       " 'Michelle Vezzani',\n",
       " 'Barbara Vincent',\n",
       " 'Justin Michael Woods',\n",
       " 'Jason Yee',\n",
       " 'Maria Zambrana',\n",
       " 'John Zion',\n",
       " 'Alex Ziwak',\n",
       " 'Tommy Bayiokos',\n",
       " 'Matthew Gooley',\n",
       " 'Jeff Moffitt',\n",
       " 'Mark Falvo',\n",
       " 'Diogo Hausen',\n",
       " 'Gary Sievers',\n",
       " 'Orion McCabe',\n",
       " 'London May',\n",
       " 'James Quinn',\n",
       " 'Daniel Newman']"
      ]
     },
     "execution_count": 27,
     "metadata": {},
     "output_type": "execute_result"
    }
   ],
   "source": [
    "movies['cast'][3]"
   ]
  },
  {
   "cell_type": "code",
   "execution_count": 28,
   "id": "cb6d91cd",
   "metadata": {},
   "outputs": [
    {
     "data": {
      "text/plain": [
       "'[{\"credit_id\": \"52fe4781c3a36847f81398c3\", \"department\": \"Sound\", \"gender\": 2, \"id\": 947, \"job\": \"Original Music Composer\", \"name\": \"Hans Zimmer\"}, {\"credit_id\": \"52fe4781c3a36847f8139899\", \"department\": \"Production\", \"gender\": 0, \"id\": 282, \"job\": \"Producer\", \"name\": \"Charles Roven\"}, {\"credit_id\": \"52fe4781c3a36847f813991b\", \"department\": \"Writing\", \"gender\": 2, \"id\": 525, \"job\": \"Screenplay\", \"name\": \"Christopher Nolan\"}, {\"credit_id\": \"52fe4781c3a36847f8139865\", \"department\": \"Directing\", \"gender\": 2, \"id\": 525, \"job\": \"Director\", \"name\": \"Christopher Nolan\"}, {\"credit_id\": \"52fe4781c3a36847f8139893\", \"department\": \"Production\", \"gender\": 2, \"id\": 525, \"job\": \"Producer\", \"name\": \"Christopher Nolan\"}, {\"credit_id\": \"52fe4781c3a36847f8139915\", \"department\": \"Writing\", \"gender\": 2, \"id\": 525, \"job\": \"Story\", \"name\": \"Christopher Nolan\"}, {\"credit_id\": \"52fe4781c3a36847f813990f\", \"department\": \"Writing\", \"gender\": 2, \"id\": 527, \"job\": \"Screenplay\", \"name\": \"Jonathan Nolan\"}, {\"credit_id\": \"52fe4781c3a36847f813989f\", \"department\": \"Production\", \"gender\": 1, \"id\": 556, \"job\": \"Producer\", \"name\": \"Emma Thomas\"}, {\"credit_id\": \"52fe4781c3a36847f81398c9\", \"department\": \"Camera\", \"gender\": 2, \"id\": 559, \"job\": \"Director of Photography\", \"name\": \"Wally Pfister\"}, {\"credit_id\": \"54c37788c3a3681421011a07\", \"department\": \"Camera\", \"gender\": 2, \"id\": 559, \"job\": \"Camera Operator\", \"name\": \"Wally Pfister\"}, {\"credit_id\": \"52fe4781c3a36847f81398d5\", \"department\": \"Production\", \"gender\": 0, \"id\": 561, \"job\": \"Casting\", \"name\": \"John Papsidera\"}, {\"credit_id\": \"52fe4781c3a36847f8139921\", \"department\": \"Writing\", \"gender\": 2, \"id\": 3893, \"job\": \"Story\", \"name\": \"David S. Goyer\"}, {\"credit_id\": \"52fe4781c3a36847f81398a5\", \"department\": \"Writing\", \"gender\": 2, \"id\": 3794, \"job\": \"Characters\", \"name\": \"Bob Kane\"}, {\"credit_id\": \"52fe4781c3a36847f81398cf\", \"department\": \"Editing\", \"gender\": 0, \"id\": 3904, \"job\": \"Editor\", \"name\": \"Lee Smith\"}, {\"credit_id\": \"52fe4781c3a36847f81398bd\", \"department\": \"Production\", \"gender\": 2, \"id\": 10949, \"job\": \"Executive Producer\", \"name\": \"Michael Uslan\"}, {\"credit_id\": \"52fe4781c3a36847f81398b1\", \"department\": \"Production\", \"gender\": 2, \"id\": 10951, \"job\": \"Executive Producer\", \"name\": \"Benjamin Melniker\"}, {\"credit_id\": \"564e1be99251414af7000269\", \"department\": \"Crew\", \"gender\": 2, \"id\": 9568, \"job\": \"Stunts\", \"name\": \"Jim Palmer\"}, {\"credit_id\": \"54c224cec3a368792c00322f\", \"department\": \"Costume & Make-Up\", \"gender\": 0, \"id\": 9991, \"job\": \"Makeup Artist\", \"name\": \"Karen Blynder\"}, {\"credit_id\": \"52fe4781c3a36847f81398f9\", \"department\": \"Costume & Make-Up\", \"gender\": 1, \"id\": 10714, \"job\": \"Costume Design\", \"name\": \"Lindy Hemming\"}, {\"credit_id\": \"52fe4781c3a36847f81398f3\", \"department\": \"Art\", \"gender\": 0, \"id\": 12039, \"job\": \"Set Decoration\", \"name\": \"Paki Smith\"}, {\"credit_id\": \"52fe4781c3a36847f8139905\", \"department\": \"Art\", \"gender\": 2, \"id\": 14762, \"job\": \"Art Direction\", \"name\": \"Robert Woodruff\"}, {\"credit_id\": \"52fe4781c3a36847f81398e1\", \"department\": \"Art\", \"gender\": 2, \"id\": 15327, \"job\": \"Production Design\", \"name\": \"Nathan Crowley\"}, {\"credit_id\": \"52fe4781c3a36847f81398e7\", \"department\": \"Art\", \"gender\": 0, \"id\": 15328, \"job\": \"Production Design\", \"name\": \"Kevin Kavanaugh\"}, {\"credit_id\": \"570b91d29251415248001736\", \"department\": \"Art\", \"gender\": 0, \"id\": 17677, \"job\": \"Supervising Art Director\", \"name\": \"Naaman Marshall\"}, {\"credit_id\": \"57c4678f92514105db0046d4\", \"department\": \"Lighting\", \"gender\": 0, \"id\": 35630, \"job\": \"Electrician\", \"name\": \"Timothy Healy\"}, {\"credit_id\": \"5745d36e92514129a0002e7c\", \"department\": \"Lighting\", \"gender\": 0, \"id\": 40120, \"job\": \"Rigging Grip\", \"name\": \"Brian \\'Buzz\\' Buzzelli\"}, {\"credit_id\": \"54c2732b9251416eae00cab6\", \"department\": \"Sound\", \"gender\": 2, \"id\": 52193, \"job\": \"ADR & Dubbing\", \"name\": \"R.J. Kizer\"}, {\"credit_id\": \"52fe4781c3a36847f81398b7\", \"department\": \"Production\", \"gender\": 0, \"id\": 54211, \"job\": \"Executive Producer\", \"name\": \"Thomas Tull\"}, {\"credit_id\": \"56aa55a092514159a5001cf3\", \"department\": \"Crew\", \"gender\": 2, \"id\": 57569, \"job\": \"Stunts\", \"name\": \"Lee Sheward\"}, {\"credit_id\": \"56817f919251417def0118c9\", \"department\": \"Crew\", \"gender\": 0, \"id\": 61329, \"job\": \"Stunts\", \"name\": \"Declan Mulvey\"}, {\"credit_id\": \"52fe4781c3a36847f81398ff\", \"department\": \"Art\", \"gender\": 0, \"id\": 62560, \"job\": \"Art Direction\", \"name\": \"Gerald Sullivan\"}, {\"credit_id\": \"54c2234d925141315a005b6b\", \"department\": \"Art\", \"gender\": 0, \"id\": 31172, \"job\": \"Art Direction\", \"name\": \"Zack Grobler\"}, {\"credit_id\": \"579d0191c3a36828b100130b\", \"department\": \"Sound\", \"gender\": 0, \"id\": 68016, \"job\": \"Orchestrator\", \"name\": \"Kevin Kaska\"}, {\"credit_id\": \"56d9d2c9925141340201f6ed\", \"department\": \"Crew\", \"gender\": 2, \"id\": 81687, \"job\": \"Stunts\", \"name\": \"Rick Avery\"}, {\"credit_id\": \"52fe4781c3a36847f81398ab\", \"department\": \"Production\", \"gender\": 2, \"id\": 75804, \"job\": \"Executive Producer\", \"name\": \"Kevin De La Noy\"}, {\"credit_id\": \"5766cb129251411323000031\", \"department\": \"Production\", \"gender\": 0, \"id\": 113913, \"job\": \"Co-Producer\", \"name\": \"Jordan Goldberg\"}, {\"credit_id\": \"54c227c2c3a3686c61012820\", \"department\": \"Production\", \"gender\": 0, \"id\": 114017, \"job\": \"Production Manager\", \"name\": \"Karl McMillan\"}, {\"credit_id\": \"54c375f6c3a36833380010e1\", \"department\": \"Visual Effects\", \"gender\": 0, \"id\": 92231, \"job\": \"VFX Supervisor\", \"name\": \"May Leung\"}, {\"credit_id\": \"56c605c9c3a3680d4e003645\", \"department\": \"Crew\", \"gender\": 2, \"id\": 122549, \"job\": \"Stunts\", \"name\": \"Philippe Vonlanthen\"}, {\"credit_id\": \"54c274859251416e6000d4ee\", \"department\": \"Sound\", \"gender\": 0, \"id\": 138618, \"job\": \"Sound Re-Recording Mixer\", \"name\": \"Gary Rizzo\"}, {\"credit_id\": \"56e76ae3c3a368408c000be7\", \"department\": \"Crew\", \"gender\": 0, \"id\": 142157, \"job\": \"Stunts\", \"name\": \"Doug Coleman\"}, {\"credit_id\": \"579794d19251411a9000004d\", \"department\": \"Crew\", \"gender\": 2, \"id\": 202930, \"job\": \"Stunts\", \"name\": \"Anthony Molinari\"}, {\"credit_id\": \"568181699251411334008948\", \"department\": \"Crew\", \"gender\": 0, \"id\": 204339, \"job\": \"Stunts\", \"name\": \"Christopher Place\"}, {\"credit_id\": \"56a7b806c3a36828b800190b\", \"department\": \"Sound\", \"gender\": 0, \"id\": 230436, \"job\": \"ADR & Dubbing\", \"name\": \"Barbara Harris\"}, {\"credit_id\": \"564e1b75c3a368070f000288\", \"department\": \"Crew\", \"gender\": 0, \"id\": 550900, \"job\": \"Stunts\", \"name\": \"Carrick O\\'Quinn\"}, {\"credit_id\": \"57531069c3a3684c100007ef\", \"department\": \"Sound\", \"gender\": 2, \"id\": 932186, \"job\": \"Orchestrator\", \"name\": \"Bruce Fowler\"}, {\"credit_id\": \"568035f3c3a3684bcc00e7b2\", \"department\": \"Crew\", \"gender\": 2, \"id\": 932748, \"job\": \"Stunts\", \"name\": \"Roy T. Anderson\"}, {\"credit_id\": \"54c2239fc3a36879290038ba\", \"department\": \"Art\", \"gender\": 2, \"id\": 969743, \"job\": \"Art Direction\", \"name\": \"Dean Wolcott\"}, {\"credit_id\": \"52fe4781c3a36847f81398db\", \"department\": \"Production\", \"gender\": 0, \"id\": 1018958, \"job\": \"Casting\", \"name\": \"Toby Whale\"}, {\"credit_id\": \"56a189729251415e5e00fd3b\", \"department\": \"Crew\", \"gender\": 2, \"id\": 1025090, \"job\": \"Stunts\", \"name\": \"Jim Wilkey\"}, {\"credit_id\": \"570b91c3c3a3684f41003b4c\", \"department\": \"Art\", \"gender\": 0, \"id\": 1034754, \"job\": \"Supervising Art Director\", \"name\": \"James Hambidge\"}, {\"credit_id\": \"568183ab9251414f6300a6f8\", \"department\": \"Crew\", \"gender\": 0, \"id\": 1045964, \"job\": \"Stunts\", \"name\": \"Aaron Vexler\"}, {\"credit_id\": \"54c37a699251412446005572\", \"department\": \"Costume & Make-Up\", \"gender\": 0, \"id\": 1046614, \"job\": \"Set Costumer\", \"name\": \"Carmia Marshall\"}, {\"credit_id\": \"54c2737bc3a368792c003905\", \"department\": \"Editing\", \"gender\": 0, \"id\": 1050930, \"job\": \"Dialogue Editor\", \"name\": \"Hugo Weng\"}, {\"credit_id\": \"57a29134c3a36832b8001afb\", \"department\": \"Crew\", \"gender\": 0, \"id\": 1061061, \"job\": \"Stunts\", \"name\": \"Adam Horton\"}, {\"credit_id\": \"56aba40e9251410e8f002cf7\", \"department\": \"Crew\", \"gender\": 0, \"id\": 1106629, \"job\": \"Stunts\", \"name\": \"Raymond Mamrak\"}, {\"credit_id\": \"54c27360925141315a0062e4\", \"department\": \"Sound\", \"gender\": 2, \"id\": 1116937, \"job\": \"Foley\", \"name\": \"John Roesch\"}, {\"credit_id\": \"54c3717792514124c8005220\", \"department\": \"Visual Effects\", \"gender\": 0, \"id\": 1155668, \"job\": \"Visual Effects Producer\", \"name\": \"Mike Chambers\"}, {\"credit_id\": \"54c226f2c3a368792c003267\", \"department\": \"Production\", \"gender\": 0, \"id\": 1270053, \"job\": \"Production Manager\", \"name\": \"Emmanuel Pappas\"}, {\"credit_id\": \"568186c0c3a36828f5006e04\", \"department\": \"Crew\", \"gender\": 0, \"id\": 1301652, \"job\": \"Stunts\", \"name\": \"Stephen W. Schriver\"}, {\"credit_id\": \"54c379b4c3a3687c4000fcd6\", \"department\": \"Costume & Make-Up\", \"gender\": 0, \"id\": 1319744, \"job\": \"Costume Supervisor\", \"name\": \"Linda Matthews\"}, {\"credit_id\": \"54c2248cc3a36878fb003164\", \"department\": \"Costume & Make-Up\", \"gender\": 0, \"id\": 1322015, \"job\": \"Makeup Department Head\", \"name\": \"Luisa Abel\"}, {\"credit_id\": \"54c2238192514124890035aa\", \"department\": \"Art\", \"gender\": 0, \"id\": 1327144, \"job\": \"Art Direction\", \"name\": \"Sue Whitaker\"}, {\"credit_id\": \"56817e2192514113340088e0\", \"department\": \"Crew\", \"gender\": 1, \"id\": 1329415, \"job\": \"Stunts\", \"name\": \"Samantha MacIvor\"}, {\"credit_id\": \"56817898c3a3684bcc011ff7\", \"department\": \"Crew\", \"gender\": 0, \"id\": 1329527, \"job\": \"Stunts\", \"name\": \"Jared Burke\"}, {\"credit_id\": \"54c3796cc3a36878d00059fb\", \"department\": \"Costume & Make-Up\", \"gender\": 0, \"id\": 1336192, \"job\": \"Costume Supervisor\", \"name\": \"Laura Downing\"}, {\"credit_id\": \"54c37a9292514124c800531e\", \"department\": \"Costume & Make-Up\", \"gender\": 0, \"id\": 1336193, \"job\": \"Set Costumer\", \"name\": \"Rebecca Levin\"}, {\"credit_id\": \"5796b492c3a3680cfa002ae3\", \"department\": \"Crew\", \"gender\": 0, \"id\": 1340941, \"job\": \"Stunts\", \"name\": \"Ray Siegle\"}, {\"credit_id\": \"54c273cf92514124ed003c05\", \"department\": \"Sound\", \"gender\": 2, \"id\": 1341403, \"job\": \"Sound Designer\", \"name\": \"Richard King\"}, {\"credit_id\": \"54c2739dc3a368792c003908\", \"department\": \"Sound\", \"gender\": 2, \"id\": 1341403, \"job\": \"Supervising Sound Editor\", \"name\": \"Richard King\"}, {\"credit_id\": \"54c27458c3a36878fb003835\", \"department\": \"Sound\", \"gender\": 0, \"id\": 1341786, \"job\": \"Sound Effects Editor\", \"name\": \"Bryan O. Watkins\"}, {\"credit_id\": \"54e4a102c3a368087b005200\", \"department\": \"Crew\", \"gender\": 0, \"id\": 1348686, \"job\": \"Production Office Assistant\", \"name\": \"Bradley Porter\"}, {\"credit_id\": \"54c22e3d92514124c8003387\", \"department\": \"Art\", \"gender\": 0, \"id\": 1355530, \"job\": \"Sculptor\", \"name\": \"Cuitlahuac Morales Velazquez\"}, {\"credit_id\": \"54c27591c3a36879290040e9\", \"department\": \"Crew\", \"gender\": 0, \"id\": 1357062, \"job\": \"Special Effects Coordinator\", \"name\": \"Scott R. Fisher\"}, {\"credit_id\": \"54c376f492514124460054fe\", \"department\": \"Camera\", \"gender\": 0, \"id\": 1357064, \"job\": \"Camera Operator\", \"name\": \"Greg Baldi\"}, {\"credit_id\": \"54c37756c3a3683338001106\", \"department\": \"Camera\", \"gender\": 0, \"id\": 1357066, \"job\": \"Camera Operator\", \"name\": \"P. Scott Sakamoto\"}, {\"credit_id\": \"54c37c5692514124c8005349\", \"department\": \"Crew\", \"gender\": 0, \"id\": 1357070, \"job\": \"Transportation Coordinator\", \"name\": \"Denny Caira\"}, {\"credit_id\": \"5681830ec3a3684be9010b3b\", \"department\": \"Crew\", \"gender\": 2, \"id\": 1358564, \"job\": \"Stunts\", \"name\": \"Trampas Thompson\"}, {\"credit_id\": \"54c37cdc92514124460055a5\", \"department\": \"Directing\", \"gender\": 2, \"id\": 1367508, \"job\": \"Script Supervisor\", \"name\": \"Steve Gehrke\"}, {\"credit_id\": \"54c37345c3a36833380010a6\", \"department\": \"Crew\", \"gender\": 0, \"id\": 1372882, \"job\": \"Visual Effects Editor\", \"name\": \"Derrick Mitchell\"}, {\"credit_id\": \"54c27414c3a368792c003910\", \"department\": \"Sound\", \"gender\": 0, \"id\": 1377222, \"job\": \"Sound Effects Editor\", \"name\": \"Michael W. Mitchell\"}, {\"credit_id\": \"54c22a06c3a368792c0032a2\", \"department\": \"Art\", \"gender\": 0, \"id\": 1378222, \"job\": \"Construction Coordinator\", \"name\": \"Joe Ondrejko\"}, {\"credit_id\": \"567607a192514179e3003fd2\", \"department\": \"Sound\", \"gender\": 0, \"id\": 1378231, \"job\": \"Sound Effects Editor\", \"name\": \"Ken J. Johnson\"}, {\"credit_id\": \"54c37b21c3a368789b0059cb\", \"department\": \"Costume & Make-Up\", \"gender\": 0, \"id\": 1378246, \"job\": \"Set Costumer\", \"name\": \"Lori Harris\"}, {\"credit_id\": \"54c37e8cc3a3681421011a9c\", \"department\": \"Crew\", \"gender\": 0, \"id\": 1378726, \"job\": \"Dialect Coach\", \"name\": \"Francie Brown\"}, {\"credit_id\": \"568185c592514132db00f267\", \"department\": \"Crew\", \"gender\": 0, \"id\": 1384390, \"job\": \"Stunts\", \"name\": \"Trevor Habberstad\"}, {\"credit_id\": \"54c22976925141315a005be2\", \"department\": \"Art\", \"gender\": 0, \"id\": 1389526, \"job\": \"Construction Coordinator\", \"name\": \"Amanda Pettett\"}, {\"credit_id\": \"54c37a01c3a36878fb00500a\", \"department\": \"Costume & Make-Up\", \"gender\": 0, \"id\": 1391648, \"job\": \"Set Costumer\", \"name\": \"Hana Rausalova\"}, {\"credit_id\": \"54c2236fc3a36878fb003141\", \"department\": \"Art\", \"gender\": 0, \"id\": 1392587, \"job\": \"Art Direction\", \"name\": \"Tom Still\"}, {\"credit_id\": \"54c2757792514124c80039d9\", \"department\": \"Crew\", \"gender\": 0, \"id\": 1393387, \"job\": \"Special Effects Coordinator\", \"name\": \"Jeff Brink\"}, {\"credit_id\": \"54c37d0492514124460055a7\", \"department\": \"Crew\", \"gender\": 0, \"id\": 1394050, \"job\": \"Dialect Coach\", \"name\": \"Paula Jack\"}, {\"credit_id\": \"54c37b3cc3a368792c0050eb\", \"department\": \"Costume & Make-Up\", \"gender\": 0, \"id\": 1395030, \"job\": \"Set Costumer\", \"name\": \"Alison Evans\"}, {\"credit_id\": \"54c37ae1c3a3687929005bf1\", \"department\": \"Costume & Make-Up\", \"gender\": 0, \"id\": 1395032, \"job\": \"Set Costumer\", \"name\": \"Amanda Jenkins\"}, {\"credit_id\": \"54c22849c3a368789b0037cf\", \"department\": \"Art\", \"gender\": 0, \"id\": 1395430, \"job\": \"Art Department Coordinator\", \"name\": \"Jenne Lee\"}, {\"credit_id\": \"54c22e1cc3a36878fb003228\", \"department\": \"Art\", \"gender\": 0, \"id\": 1395435, \"job\": \"Set Designer\", \"name\": \"Theodore Sharps\"}, {\"credit_id\": \"54c2734bc3a368789b003f6a\", \"department\": \"Sound\", \"gender\": 0, \"id\": 1397823, \"job\": \"Foley\", \"name\": \"Alyson Dee Moore\"}, {\"credit_id\": \"54c22b05c3a36878d000384e\", \"department\": \"Art\", \"gender\": 0, \"id\": 1398089, \"job\": \"Greensman\", \"name\": \"Ian Whiteford\"}, {\"credit_id\": \"54c3785cc3a36878fb004fd2\", \"department\": \"Camera\", \"gender\": 0, \"id\": 1399071, \"job\": \"Helicopter Camera\", \"name\": \"Hans Bjerno\"}, {\"credit_id\": \"54c37a339251416e6000ee25\", \"department\": \"Costume & Make-Up\", \"gender\": 0, \"id\": 1399323, \"job\": \"Set Costumer\", \"name\": \"Mustapha Mimis\"}, {\"credit_id\": \"54c22b5a9251416e6000cdc1\", \"department\": \"Art\", \"gender\": 0, \"id\": 1399463, \"job\": \"Leadman\", \"name\": \"Bruce Lee Gross\"}, {\"credit_id\": \"54c378cfc3a3687929005bb1\", \"department\": \"Camera\", \"gender\": 0, \"id\": 1399876, \"job\": \"Still Photographer\", \"name\": \"Ron Phillips\"}, {\"credit_id\": \"54c37afbc3a368792c0050e2\", \"department\": \"Costume & Make-Up\", \"gender\": 0, \"id\": 1401814, \"job\": \"Set Costumer\", \"name\": \"Alejandro M. Hernandez\"}, {\"credit_id\": \"54c37e5a925141243200588d\", \"department\": \"Crew\", \"gender\": 1, \"id\": 1402008, \"job\": \"Dialect Coach\", \"name\": \"Kathleen S. Dunn\"}, {\"credit_id\": \"57785421c3a36826c9000a83\", \"department\": \"Directing\", \"gender\": 0, \"id\": 1402079, \"job\": \"Assistant Director\", \"name\": \"Matthew Reedy\"}, {\"credit_id\": \"54c223c2c3a3686c610127d0\", \"department\": \"Costume & Make-Up\", \"gender\": 0, \"id\": 1403424, \"job\": \"Costume Design\", \"name\": \"Roberto Craciunica\"}, {\"credit_id\": \"54c227f6c3a36878fb0031a8\", \"department\": \"Production\", \"gender\": 0, \"id\": 1403427, \"job\": \"Production Supervisor\", \"name\": \"Candice D. Campos\"}, {\"credit_id\": \"54c3780d925141248900573b\", \"department\": \"Camera\", \"gender\": 0, \"id\": 1404739, \"job\": \"Helicopter Camera\", \"name\": \"Steve Koster\"}, {\"credit_id\": \"54c37482c3a36878fb004f73\", \"department\": \"Visual Effects\", \"gender\": 0, \"id\": 1408347, \"job\": \"Visual Effects Supervisor\", \"name\": \"Pete Bebb\"}, {\"credit_id\": \"54c2254892514124ed003561\", \"department\": \"Costume & Make-Up\", \"gender\": 0, \"id\": 1409824, \"job\": \"Wigmaker\", \"name\": \"Natasha Ladek\"}, {\"credit_id\": \"567d811dc3a36860e9006747\", \"department\": \"Art\", \"gender\": 0, \"id\": 1411808, \"job\": \"Painter\", \"name\": \"Chris Bertholf\"}, {\"credit_id\": \"54c224b7c3a36879290038de\", \"department\": \"Costume & Make-Up\", \"gender\": 0, \"id\": 1412185, \"job\": \"Makeup Artist\", \"name\": \"Jay Wejebe\"}, {\"credit_id\": \"54c22a7e92514124ed0035cf\", \"department\": \"Art\", \"gender\": 0, \"id\": 1413089, \"job\": \"Construction Foreman\", \"name\": \"William Gideon\"}, {\"credit_id\": \"54c3761dc3a368789b005920\", \"department\": \"Crew\", \"gender\": 0, \"id\": 1415157, \"job\": \"Sequence Supervisor\", \"name\": \"Joel Green\"}, {\"credit_id\": \"56fd6190c3a3685cda0005de\", \"department\": \"Crew\", \"gender\": 0, \"id\": 1415606, \"job\": \"Makeup Effects\", \"name\": \"Diana Choi\"}, {\"credit_id\": \"54c37e11c3a3681421011a8f\", \"department\": \"Crew\", \"gender\": 0, \"id\": 1416005, \"job\": \"Unit Publicist\", \"name\": \"Claudia Kalindjian\"}, {\"credit_id\": \"54c2233c92514124c8003261\", \"department\": \"Art\", \"gender\": 0, \"id\": 1417396, \"job\": \"Art Direction\", \"name\": \"Toby Britton\"}, {\"credit_id\": \"54c2235ec3a368142100fa9a\", \"department\": \"Art\", \"gender\": 0, \"id\": 1417397, \"job\": \"Art Direction\", \"name\": \"Jonathan Kevin Ong\"}, {\"credit_id\": \"54c223ea9251416e6000cd21\", \"department\": \"Costume & Make-Up\", \"gender\": 0, \"id\": 1417398, \"job\": \"Hairstylist\", \"name\": \"Janice Alexander\"}, {\"credit_id\": \"54c2240292514124460034ac\", \"department\": \"Costume & Make-Up\", \"gender\": 0, \"id\": 1417399, \"job\": \"Hairstylist\", \"name\": \"Patricia DeHaney\"}, {\"credit_id\": \"54c224619251416eae00c3aa\", \"department\": \"Costume & Make-Up\", \"gender\": 0, \"id\": 1417400, \"job\": \"Hairstylist\", \"name\": \"Deena Adair\"}, {\"credit_id\": \"54c225c2c3a36878d00037bb\", \"department\": \"Crew\", \"gender\": 0, \"id\": 1417403, \"job\": \"Makeup Effects\", \"name\": \"Andre Gilbert\"}, {\"credit_id\": \"54c227a49251416e6000cd7b\", \"department\": \"Production\", \"gender\": 0, \"id\": 1417406, \"job\": \"Production Manager\", \"name\": \"Michael Murray\"}, {\"credit_id\": \"54c227dc925141248900361a\", \"department\": \"Production\", \"gender\": 0, \"id\": 1417407, \"job\": \"Production Manager\", \"name\": \"Thomas Hayslip\"}, {\"credit_id\": \"54c2280ec3a3687929003931\", \"department\": \"Production\", \"gender\": 0, \"id\": 1417408, \"job\": \"Production Supervisor\", \"name\": \"Mika Saito\"}, {\"credit_id\": \"54c22867c3a3686c6101282f\", \"department\": \"Art\", \"gender\": 0, \"id\": 1417409, \"job\": \"Art Department Coordinator\", \"name\": \"Pippa Needs\"}, {\"credit_id\": \"54c22883925141244600351e\", \"department\": \"Art\", \"gender\": 0, \"id\": 1417410, \"job\": \"Art Department Coordinator\", \"name\": \"Laura Pliskin\"}, {\"credit_id\": \"54c228d49251416e6000cd90\", \"department\": \"Art\", \"gender\": 0, \"id\": 1417411, \"job\": \"Assistant Art Director\", \"name\": \"Anna Bregman\"}, {\"credit_id\": \"54c2290cc3a36878fb0031c1\", \"department\": \"Art\", \"gender\": 0, \"id\": 1417412, \"job\": \"Assistant Art Director\", \"name\": \"Robert W. Joseph\"}, {\"credit_id\": \"54c22949c3a36878d000381a\", \"department\": \"Crew\", \"gender\": 0, \"id\": 1417413, \"job\": \"Property Master\", \"name\": \"Barry Wilkinson\"}, {\"credit_id\": \"54c229eec3a36878d0003836\", \"department\": \"Art\", \"gender\": 0, \"id\": 1417414, \"job\": \"Construction Coordinator\", \"name\": \"Glen Pangione\"}, {\"credit_id\": \"594851dac3a36816f6048d7d\", \"department\": \"Art\", \"gender\": 2, \"id\": 1417415, \"job\": \"Property Master\", \"name\": \"Mychael Bates\"}, {\"credit_id\": \"54c22ac69251416eae00c42c\", \"department\": \"Art\", \"gender\": 0, \"id\": 1417416, \"job\": \"Greensman\", \"name\": \"Brandon A. Plonka\"}, {\"credit_id\": \"54c22ae3c3a368792900396e\", \"department\": \"Crew\", \"gender\": 0, \"id\": 1417417, \"job\": \"Scenic Artist\", \"name\": \"Elizabeth Tomasetti\"}, {\"credit_id\": \"54c22d4592514124c8003368\", \"department\": \"Art\", \"gender\": 0, \"id\": 1417418, \"job\": \"Leadman\", \"name\": \"Sean Ginevan\"}, {\"credit_id\": \"54c22df6c3a36878d000388e\", \"department\": \"Art\", \"gender\": 0, \"id\": 1417419, \"job\": \"Set Designer\", \"name\": \"Jason Kolowski\"}, {\"credit_id\": \"54c273ec92514124ed003c0a\", \"department\": \"Sound\", \"gender\": 0, \"id\": 1417514, \"job\": \"Sound Effects Editor\", \"name\": \"Michael Babcock\"}, {\"credit_id\": \"54c2752392514124c80039d3\", \"department\": \"Sound\", \"gender\": 0, \"id\": 1417514, \"job\": \"Sound Re-Recording Mixer\", \"name\": \"Michael Babcock\"}, {\"credit_id\": \"54c273fec3a368789b003f7a\", \"department\": \"Sound\", \"gender\": 0, \"id\": 1417515, \"job\": \"Sound Effects Editor\", \"name\": \"Randle Akerson\"}, {\"credit_id\": \"54c27428925141315a0062f5\", \"department\": \"Sound\", \"gender\": 0, \"id\": 1417516, \"job\": \"Sound Effects Editor\", \"name\": \"Jeff Sawyer\"}, {\"credit_id\": \"54c274f1c3a36879290040da\", \"department\": \"Sound\", \"gender\": 0, \"id\": 1417517, \"job\": \"Sound Re-Recording Mixer\", \"name\": \"Carlos Solis\"}, {\"credit_id\": \"54c37193c3a368792c004fed\", \"department\": \"Crew\", \"gender\": 0, \"id\": 1417820, \"job\": \"Visual Effects Editor\", \"name\": \"Nick Dacey\"}, {\"credit_id\": \"54c372959251416eae00e22d\", \"department\": \"Visual Effects\", \"gender\": 0, \"id\": 1417821, \"job\": \"Visual Effects Producer\", \"name\": \"Claudia Dehmel\"}, {\"credit_id\": \"54c372e39251416e6000ed54\", \"department\": \"Crew\", \"gender\": 0, \"id\": 1417822, \"job\": \"Visual Effects Editor\", \"name\": \"Reuben Lloyd-Pack\"}, {\"credit_id\": \"54c3731892514124c8005254\", \"department\": \"Crew\", \"gender\": 0, \"id\": 1417823, \"job\": \"Visual Effects Editor\", \"name\": \"Steve Miller\"}, {\"credit_id\": \"54c3738f9251416e6000ed5f\", \"department\": \"Crew\", \"gender\": 0, \"id\": 1417824, \"job\": \"Visual Effects Editor\", \"name\": \"Christopher Payne\"}, {\"credit_id\": \"54c374b392514124890056d9\", \"department\": \"Crew\", \"gender\": 0, \"id\": 1417825, \"job\": \"CG Supervisor\", \"name\": \"Julian Foddy\"}, {\"credit_id\": \"54c374cc9251416e6000ed85\", \"department\": \"Visual Effects\", \"gender\": 0, \"id\": 1417826, \"job\": \"Visual Effects Supervisor\", \"name\": \"Paul J. Franklin\"}, {\"credit_id\": \"54c374eec3a368789b005901\", \"department\": \"Crew\", \"gender\": 0, \"id\": 1417827, \"job\": \"CG Supervisor\", \"name\": \"Nicola Hoyle\"}, {\"credit_id\": \"54c37524c3a3687929005b32\", \"department\": \"Visual Effects\", \"gender\": 0, \"id\": 1417828, \"job\": \"Visual Effects Supervisor\", \"name\": \"Andrew Lockley\"}, {\"credit_id\": \"54c3757ac3a36833380010d3\", \"department\": \"Crew\", \"gender\": 0, \"id\": 1417829, \"job\": \"Sequence Supervisor\", \"name\": \"Alison Wortman\"}, {\"credit_id\": \"54c375b49251416e6000ed9d\", \"department\": \"Crew\", \"gender\": 0, \"id\": 1417830, \"job\": \"Sequence Supervisor\", \"name\": \"Maxx Wai In Leong\"}, {\"credit_id\": \"54c3766ac3a36814210119e7\", \"department\": \"Crew\", \"gender\": 0, \"id\": 1417831, \"job\": \"Stunt Coordinator\", \"name\": \"Sy Hollands\"}, {\"credit_id\": \"54c377e49251416e6000edfc\", \"department\": \"Lighting\", \"gender\": 0, \"id\": 1417832, \"job\": \"Gaffer\", \"name\": \"Ryan Rodriguez\"}, {\"credit_id\": \"54c3783c92514124c80052d6\", \"department\": \"Lighting\", \"gender\": 0, \"id\": 1417833, \"job\": \"Gaffer\", \"name\": \"Reuben Garrett\"}, {\"credit_id\": \"54c378719251416eae00e2db\", \"department\": \"Camera\", \"gender\": 0, \"id\": 1417834, \"job\": \"Camera Technician\", \"name\": \"Dane Bjerno\"}, {\"credit_id\": \"54c378a49251412432005815\", \"department\": \"Lighting\", \"gender\": 0, \"id\": 1417835, \"job\": \"Rigging Gaffer\", \"name\": \"Ian Franklin\"}, {\"credit_id\": \"54c379219251412446005555\", \"department\": \"Visual Effects\", \"gender\": 0, \"id\": 1417836, \"job\": \"Animation\", \"name\": \"Andrew McEvoy\"}, {\"credit_id\": \"54c3798b92514124ed005678\", \"department\": \"Costume & Make-Up\", \"gender\": 0, \"id\": 1417837, \"job\": \"Costume Supervisor\", \"name\": \"Brendan Handscombe\"}, {\"credit_id\": \"54c37ac9c3a36878fb00501a\", \"department\": \"Costume & Make-Up\", \"gender\": 0, \"id\": 1417838, \"job\": \"Set Costumer\", \"name\": \"Lindsay Kouri\"}, {\"credit_id\": \"54c37ba5c3a3683338001180\", \"department\": \"Costume & Make-Up\", \"gender\": 0, \"id\": 1417839, \"job\": \"Set Costumer\", \"name\": \"David Butler\"}, {\"credit_id\": \"54c37c01c3a3687929005c04\", \"department\": \"Editing\", \"gender\": 0, \"id\": 1417840, \"job\": \"First Assistant Editor\", \"name\": \"Eric A. Lewy\"}, {\"credit_id\": \"54c37c29925141243200586d\", \"department\": \"Sound\", \"gender\": 0, \"id\": 1417841, \"job\": \"Music Editor\", \"name\": \"Ryan Rubin\"}, {\"credit_id\": \"54c37c42c3a36878d0005a31\", \"department\": \"Crew\", \"gender\": 0, \"id\": 1417842, \"job\": \"Transportation Coordinator\", \"name\": \"Gary Birmingham\"}, {\"credit_id\": \"54c37c7592514124ed0056af\", \"department\": \"Crew\", \"gender\": 0, \"id\": 1417843, \"job\": \"Picture Car Coordinator\", \"name\": \"Tyler W. Gaisford\"}, {\"credit_id\": \"54c37d6dc3a3687c4000fd1b\", \"department\": \"Production\", \"gender\": 0, \"id\": 1417844, \"job\": \"Location Manager\", \"name\": \"Mark Somner\"}, {\"credit_id\": \"54c37d9fc3a3687c4000fd20\", \"department\": \"Production\", \"gender\": 0, \"id\": 1417845, \"job\": \"Location Manager\", \"name\": \"Joaquin Diego Prange\"}, {\"credit_id\": \"54c37dbb9251416e6000ee57\", \"department\": \"Production\", \"gender\": 0, \"id\": 1417846, \"job\": \"Location Manager\", \"name\": \"Vans Pradeep Singh Rathore\"}, {\"credit_id\": \"54c37de6c3a36878d0005a54\", \"department\": \"Production\", \"gender\": 0, \"id\": 1417847, \"job\": \"Location Manager\", \"name\": \"James A. Mahathey\"}, {\"credit_id\": \"54c37e2cc3a36833380011b6\", \"department\": \"Production\", \"gender\": 0, \"id\": 1417848, \"job\": \"Location Manager\", \"name\": \"Jonathan Hook\"}, {\"credit_id\": \"56c266579251414a89000a2a\", \"department\": \"Costume & Make-Up\", \"gender\": 0, \"id\": 1427499, \"job\": \"Hairstylist\", \"name\": \"Stephanie Hovette\"}, {\"credit_id\": \"569fd0f6c3a36858c300a313\", \"department\": \"Crew\", \"gender\": 0, \"id\": 1434599, \"job\": \"Stunts\", \"name\": \"Brian Smyj\"}, {\"credit_id\": \"56d4e8b3c3a3681e44017a1d\", \"department\": \"Editing\", \"gender\": 0, \"id\": 1440853, \"job\": \"Assistant Editor\", \"name\": \"Donald Likovich\"}, {\"credit_id\": \"56817ef292514132db00f181\", \"department\": \"Crew\", \"gender\": 0, \"id\": 1455503, \"job\": \"Stunts\", \"name\": \"Ian Mclaughlin\"}, {\"credit_id\": \"56d872209251414291007577\", \"department\": \"Production\", \"gender\": 0, \"id\": 1463954, \"job\": \"Casting\", \"name\": \"Dixie Webster\"}, {\"credit_id\": \"568180369251414f6300a677\", \"department\": \"Crew\", \"gender\": 0, \"id\": 1468581, \"job\": \"Stunts\", \"name\": \"Victor Paguia\"}, {\"credit_id\": \"5682ca7392514169d0000aae\", \"department\": \"Costume & Make-Up\", \"gender\": 0, \"id\": 1468589, \"job\": \"Assistant Costume Designer\", \"name\": \"Wade Sullivan\"}, {\"credit_id\": \"56744cfb92514179dd00006d\", \"department\": \"Crew\", \"gender\": 0, \"id\": 1483827, \"job\": \"Stunts\", \"name\": \"Sid Karne\"}, {\"credit_id\": \"5621354392514171d000883b\", \"department\": \"Directing\", \"gender\": 0, \"id\": 1483827, \"job\": \"Assistant Director\", \"name\": \"Sid Karne\"}, {\"credit_id\": \"5681e419c3a36828f5007e50\", \"department\": \"Camera\", \"gender\": 0, \"id\": 1509394, \"job\": \"Grip\", \"name\": \"Michael J. Prate\"}, {\"credit_id\": \"5681e47a92514113340099ff\", \"department\": \"Camera\", \"gender\": 0, \"id\": 1509396, \"job\": \"Grip\", \"name\": \"Tom Prate\"}, {\"credit_id\": \"567d7b08c3a3684bd00070c2\", \"department\": \"Costume & Make-Up\", \"gender\": 0, \"id\": 1516458, \"job\": \"Hairstylist\", \"name\": \"R. Cory McCutcheon\"}, {\"credit_id\": \"56ba969e92514169b3000721\", \"department\": \"Editing\", \"gender\": 0, \"id\": 1525908, \"job\": \"Assistant Editor\", \"name\": \"Anne O\\'Brien\"}, {\"credit_id\": \"578fbfa19251411d5700117b\", \"department\": \"Crew\", \"gender\": 0, \"id\": 1531529, \"job\": \"Stunts\", \"name\": \"Rex Reddick\"}, {\"credit_id\": \"57d6ea2fc3a368023a00044e\", \"department\": \"Camera\", \"gender\": 0, \"id\": 1532610, \"job\": \"First Assistant Camera\", \"name\": \"Bob Hall\"}, {\"credit_id\": \"57bf2c29c3a3685c5d003e00\", \"department\": \"Lighting\", \"gender\": 0, \"id\": 1532612, \"job\": \"Rigging Grip\", \"name\": \"Blake Pike\"}, {\"credit_id\": \"566f8003c3a3680e7300cb03\", \"department\": \"Camera\", \"gender\": 0, \"id\": 1532613, \"job\": \"First Assistant Camera\", \"name\": \"Philip Shanahan\"}, {\"credit_id\": \"56452aa6c3a36870ec006931\", \"department\": \"Crew\", \"gender\": 2, \"id\": 1535095, \"job\": \"Stunts\", \"name\": \"Dan Brown\"}, {\"credit_id\": \"56452cb89251410a4c006cdf\", \"department\": \"Camera\", \"gender\": 0, \"id\": 1535096, \"job\": \"Grip\", \"name\": \"Adam Camacho\"}, {\"credit_id\": \"56452e7ac3a36870ef006f32\", \"department\": \"Camera\", \"gender\": 0, \"id\": 1535102, \"job\": \"Grip\", \"name\": \"Shaun Sangkarat\"}, {\"credit_id\": \"56817c9ec3a3682abc00a14b\", \"department\": \"Crew\", \"gender\": 1, \"id\": 1544394, \"job\": \"Stunts\", \"name\": \"Aja Frary\"}, {\"credit_id\": \"56817c4b9251417def011851\", \"department\": \"Crew\", \"gender\": 2, \"id\": 1544395, \"job\": \"Stunts\", \"name\": \"Mark Fichera\"}, {\"credit_id\": \"566875bec3a36836970036e9\", \"department\": \"Crew\", \"gender\": 0, \"id\": 1546907, \"job\": \"Driver\", \"name\": \"Patrick Hogan\"}, {\"credit_id\": \"566dbc4a92514169e200c3cd\", \"department\": \"Costume & Make-Up\", \"gender\": 0, \"id\": 1548530, \"job\": \"Hairstylist\", \"name\": \"Robert Wilson\"}, {\"credit_id\": \"566f03c1925141500100a095\", \"department\": \"Crew\", \"gender\": 0, \"id\": 1549015, \"job\": \"Propmaker\", \"name\": \"Ray Maxwell\"}, {\"credit_id\": \"566f0f16c3a368535a011220\", \"department\": \"Crew\", \"gender\": 0, \"id\": 1549026, \"job\": \"Stunts Coordinator\", \"name\": \"Scotty Richards\"}, {\"credit_id\": \"5671a5adc3a368535a01870d\", \"department\": \"Crew\", \"gender\": 2, \"id\": 1549741, \"job\": \"Stunts\", \"name\": \"Marc Scizak\"}, {\"credit_id\": \"5672f427c3a3680712003145\", \"department\": \"Lighting\", \"gender\": 0, \"id\": 1550248, \"job\": \"Rigging Grip\", \"name\": \"Joe Guzman\"}, {\"credit_id\": \"5673487792514163b9003756\", \"department\": \"Crew\", \"gender\": 0, \"id\": 1550400, \"job\": \"Set Production Assistant\", \"name\": \"Damiano Fusca\"}, {\"credit_id\": \"56817a49c3a3682abc00a0a5\", \"department\": \"Crew\", \"gender\": 2, \"id\": 1550725, \"job\": \"Stunts\", \"name\": \"Chris Cenatiempo\"}, {\"credit_id\": \"567607cd92514179e7003fcb\", \"department\": \"Camera\", \"gender\": 0, \"id\": 1551373, \"job\": \"Camera Intern\", \"name\": \"Joey J. Cook III\"}, {\"credit_id\": \"568f076fc3a368324c0000ac\", \"department\": \"Editing\", \"gender\": 0, \"id\": 1552549, \"job\": \"Color Timer\", \"name\": \"David Orr\"}, {\"credit_id\": \"5680378d9251412e5200bc04\", \"department\": \"Crew\", \"gender\": 0, \"id\": 1554393, \"job\": \"Stunts\", \"name\": \"Scott Burik\"}, {\"credit_id\": \"5681798292514131df00eabe\", \"department\": \"Crew\", \"gender\": 0, \"id\": 1554915, \"job\": \"Stunts\", \"name\": \"Mike Burke\"}, {\"credit_id\": \"56817cecc3a3682abc00a155\", \"department\": \"Crew\", \"gender\": 0, \"id\": 1554921, \"job\": \"Stunts\", \"name\": \"Shane Geraghty\"}, {\"credit_id\": \"568180ea9251417def0118f7\", \"department\": \"Lighting\", \"gender\": 0, \"id\": 1554924, \"job\": \"Rigging Grip\", \"name\": \"Balint Pinczehelyi\"}, {\"credit_id\": \"56818203c3a36860e9010d12\", \"department\": \"Crew\", \"gender\": 0, \"id\": 1554925, \"job\": \"Stunts\", \"name\": \"Kevin Rogers\"}, {\"credit_id\": \"568182e7c3a3684be3011a16\", \"department\": \"Crew\", \"gender\": 0, \"id\": 1554926, \"job\": \"Stunts\", \"name\": \"Shawnna Thibodeau\"}, {\"credit_id\": \"568183fac3a36860e9010d53\", \"department\": \"Crew\", \"gender\": 0, \"id\": 1554931, \"job\": \"Stunts\", \"name\": \"Caroline Vexler\"}, {\"credit_id\": \"5681e190c3a3684bcc013316\", \"department\": \"Lighting\", \"gender\": 2, \"id\": 1555027, \"job\": \"Rigging Grip\", \"name\": \"Kevin Flynn\"}, {\"credit_id\": \"56b78254c3a36806ec00e6f5\", \"department\": \"Production\", \"gender\": 0, \"id\": 1564997, \"job\": \"Executive In Charge Of Production\", \"name\": \"Mark Scoon\"}, {\"credit_id\": \"56b781afc3a36806ec00e6e0\", \"department\": \"Directing\", \"gender\": 0, \"id\": 1566280, \"job\": \"Assistant Director\", \"name\": \"Nilo Otero\"}, {\"credit_id\": \"5766ccd8c3a3687f5300121a\", \"department\": \"Crew\", \"gender\": 0, \"id\": 1571601, \"job\": \"Post Production Supervisor\", \"name\": \"David E. Hall\"}, {\"credit_id\": \"573e668892514108d9000856\", \"department\": \"Crew\", \"gender\": 2, \"id\": 1622657, \"job\": \"Stunts\", \"name\": \"Mark Aaron Wagner\"}, {\"credit_id\": \"579bf757c3a3681678003103\", \"department\": \"Crew\", \"gender\": 0, \"id\": 1634437, \"job\": \"Stunts\", \"name\": \"Ed McDermott II\"}, {\"credit_id\": \"5766cc219251416995000666\", \"department\": \"Costume & Make-Up\", \"gender\": 0, \"id\": 1638257, \"job\": \"Prosthetic Supervisor\", \"name\": \"Conor O\\'Sullivan\"}, {\"credit_id\": \"5777f94a9251415f060011a6\", \"department\": \"Sound\", \"gender\": 0, \"id\": 1644412, \"job\": \"Sound Mixer\", \"name\": \"Nakul Kamte\"}, {\"credit_id\": \"577852f992514136e100208d\", \"department\": \"Production\", \"gender\": 0, \"id\": 1644543, \"job\": \"Line Producer\", \"name\": \"Dileep Singh Rathore\"}]'"
      ]
     },
     "execution_count": 28,
     "metadata": {},
     "output_type": "execute_result"
    }
   ],
   "source": [
    "movies['crew'][3]"
   ]
  },
  {
   "cell_type": "code",
   "execution_count": 29,
   "id": "ca54071f",
   "metadata": {},
   "outputs": [],
   "source": [
    "def convertcrew(obj):\n",
    "    L=[]\n",
    "    for i in ast.literal_eval(obj):\n",
    "        if i['job']== 'Director' or i['job']== 'Original Music Composer' or i['job']== 'Screenplay':\n",
    "            L.append(i['name'])\n",
    "    return L"
   ]
  },
  {
   "cell_type": "code",
   "execution_count": 30,
   "id": "1b3442b1",
   "metadata": {},
   "outputs": [],
   "source": [
    "movies['crew']=movies['crew'].apply(convertcrew)"
   ]
  },
  {
   "cell_type": "code",
   "execution_count": 31,
   "id": "412233b6",
   "metadata": {},
   "outputs": [
    {
     "data": {
      "text/plain": [
       "['Hans Zimmer', 'Christopher Nolan', 'Christopher Nolan', 'Jonathan Nolan']"
      ]
     },
     "execution_count": 31,
     "metadata": {},
     "output_type": "execute_result"
    }
   ],
   "source": [
    "movies['crew'][3]"
   ]
  },
  {
   "cell_type": "code",
   "execution_count": 32,
   "id": "d514cf6d",
   "metadata": {},
   "outputs": [],
   "source": [
    "movies['genres']=movies['genres'].apply(lambda x:[i.replace(\" \",\"\") for i in x])\n",
    "movies['keywords']=movies['keywords'].apply(lambda x:[i.replace(\" \",\"\") for i in x])\n",
    "movies['cast']=movies['cast'].apply(lambda x:[i.replace(\" \",\"\") for i in x])\n",
    "movies['crew']=movies['crew'].apply(lambda x:[i.replace(\" \",\"\") for i in x])"
   ]
  },
  {
   "cell_type": "code",
   "execution_count": 33,
   "id": "71bf0e77",
   "metadata": {},
   "outputs": [],
   "source": [
    "def drops(obj):\n",
    "    L=[]\n",
    "    for i in (obj):\n",
    "        if obj[i] in L:\n",
    "            continue\n",
    "        else:\n",
    "            L.append(i)\n",
    "        return L"
   ]
  },
  {
   "cell_type": "code",
   "execution_count": 34,
   "id": "607aec3e",
   "metadata": {},
   "outputs": [
    {
     "data": {
      "text/plain": [
       "dtype('O')"
      ]
     },
     "execution_count": 34,
     "metadata": {},
     "output_type": "execute_result"
    }
   ],
   "source": [
    "movies['overview'].dtype"
   ]
  },
  {
   "cell_type": "code",
   "execution_count": 35,
   "id": "0e36095f",
   "metadata": {},
   "outputs": [],
   "source": [
    "movies['tags']= movies['genres']+ movies['keywords']+ movies['cast']+movies['crew']"
   ]
  },
  {
   "cell_type": "code",
   "execution_count": 36,
   "id": "8774d796",
   "metadata": {},
   "outputs": [
    {
     "data": {
      "text/plain": [
       "['Action',\n",
       " 'Crime',\n",
       " 'Drama',\n",
       " 'Thriller',\n",
       " 'dccomics',\n",
       " 'crimefighter',\n",
       " 'terrorist',\n",
       " 'secretidentity',\n",
       " 'burglar',\n",
       " 'hostagedrama',\n",
       " 'timebomb',\n",
       " 'gothamcity',\n",
       " 'vigilante',\n",
       " 'cover-up',\n",
       " 'superhero',\n",
       " 'villainess',\n",
       " 'tragichero',\n",
       " 'terrorism',\n",
       " 'destruction',\n",
       " 'catwoman',\n",
       " 'catburglar',\n",
       " 'imax',\n",
       " 'flood',\n",
       " 'criminalunderworld',\n",
       " 'batman',\n",
       " 'ChristianBale',\n",
       " 'MichaelCaine',\n",
       " 'GaryOldman',\n",
       " 'AnneHathaway',\n",
       " 'TomHardy',\n",
       " 'MarionCotillard',\n",
       " 'JosephGordon-Levitt',\n",
       " 'MorganFreeman',\n",
       " 'CillianMurphy',\n",
       " 'JunoTemple',\n",
       " 'LiamNeeson',\n",
       " 'MatthewModine',\n",
       " 'AlonAboutboul',\n",
       " 'BenMendelsohn',\n",
       " 'NestorCarbonell',\n",
       " 'JoshPence',\n",
       " 'TomConti',\n",
       " 'JoeyKing',\n",
       " 'WarrenBrown',\n",
       " 'DanielSunjata',\n",
       " 'SamKennard',\n",
       " 'AliashTepina',\n",
       " 'NickJulian',\n",
       " 'MirandaNolan',\n",
       " 'ClaireJulien',\n",
       " 'AidanGillen',\n",
       " 'BurnGorman',\n",
       " 'BrettCullen',\n",
       " 'ReggieLee',\n",
       " 'JosephLyleTaylor',\n",
       " 'ChrisEllis',\n",
       " 'DuaneHenry',\n",
       " 'JamesHarveyWard',\n",
       " 'GonzaloMenendez',\n",
       " 'CameronJack',\n",
       " 'LexDaniel',\n",
       " 'TylerDeanFlores',\n",
       " 'ThomasLennon',\n",
       " 'TrevorWhite',\n",
       " 'RobBrown',\n",
       " 'FredricLehne',\n",
       " 'CourtneyMunch',\n",
       " 'ChrisHill',\n",
       " 'TravisGuba',\n",
       " 'JayBenedict',\n",
       " 'WillEstes',\n",
       " 'DavidDayanFisher',\n",
       " 'GlenPowell',\n",
       " 'RussFega',\n",
       " 'AndresPerez-Molina',\n",
       " 'BrentBriscoe',\n",
       " 'JohnNolan',\n",
       " 'OliverCotton',\n",
       " 'MarkKilleen',\n",
       " 'SarahGoldberg',\n",
       " 'JohnMacMillan',\n",
       " 'RobertWisdom',\n",
       " 'RonnieGeneBlevins',\n",
       " 'JohnHollingworth',\n",
       " 'IanBohen',\n",
       " 'UriGavriel',\n",
       " 'NoelGugliemi',\n",
       " 'HectorAtreyuRuiz',\n",
       " 'PatrickCox',\n",
       " 'AramisKnight',\n",
       " 'JoshStewart',\n",
       " 'WilliamDevane',\n",
       " 'DavidGyasi',\n",
       " 'PatrickJordan',\n",
       " 'JoshuaElijahReese',\n",
       " 'DesmondHarrington',\n",
       " 'MychaelBates',\n",
       " 'TomasArana',\n",
       " 'PeterHolden',\n",
       " 'DavidMonahan',\n",
       " 'JillianArmenante',\n",
       " 'AjaEvans',\n",
       " 'AldousDavidson',\n",
       " 'WadeWilliams',\n",
       " 'JakeCanuso',\n",
       " 'MassiFurlan',\n",
       " 'ChristopherJudge',\n",
       " 'PatrickLeahy',\n",
       " 'ToddGearhart',\n",
       " 'MarcAbbink',\n",
       " 'IsiahAdams',\n",
       " 'CharlieAlejandro',\n",
       " 'RobertArensen',\n",
       " 'GrantBabbitt',\n",
       " 'FileenaBahris',\n",
       " 'RickBolander',\n",
       " 'KylePatrickBrennan',\n",
       " 'ScottChurchson',\n",
       " 'BillCowher',\n",
       " 'GrahamCurry',\n",
       " 'StephanieDominiEhlert',\n",
       " 'JohnFarrer',\n",
       " 'FrankFata',\n",
       " 'ChristopherBryanGomez',\n",
       " 'VitoGrassi',\n",
       " 'MichaelWrenGucciardo',\n",
       " 'SamHarris',\n",
       " 'EdHeavey',\n",
       " 'JohnW.Iwanonkiw',\n",
       " 'CindyJackson',\n",
       " 'DanielJordano',\n",
       " 'WilliamKania',\n",
       " 'TiffanyKemp',\n",
       " 'SunJaeKim',\n",
       " 'HrvojeKlecz',\n",
       " 'AlexKruz',\n",
       " 'TylerLaMarr',\n",
       " 'LeJon',\n",
       " 'PaulJudeLetersky',\n",
       " 'JoeLipari',\n",
       " 'SilviaLombardo',\n",
       " 'JorgeMardel',\n",
       " 'CaleMcConnell',\n",
       " 'DavidDaleMcCue',\n",
       " 'TiffanySanderMcKenzie',\n",
       " 'AllenMerritt',\n",
       " 'OlanMontgomery',\n",
       " 'AlexMoore',\n",
       " 'ShaneNolan',\n",
       " 'JacksonNunn',\n",
       " \"JosephO'Brien\",\n",
       " 'MichaelPapajohn',\n",
       " 'SalomonPassariello',\n",
       " 'KyleDavidPierce',\n",
       " 'TroyPolamalu',\n",
       " 'MichaelPower',\n",
       " 'JamesRawlings',\n",
       " 'KirstenRoeters',\n",
       " 'BenRoethlisberger',\n",
       " 'MarkRoman',\n",
       " 'AnthonyJ.Sacco',\n",
       " 'EricSalazar',\n",
       " 'EmilySchooley',\n",
       " 'ThomasTull',\n",
       " 'ChrisVaina',\n",
       " 'VincentvanOmmen',\n",
       " 'MichelleVezzani',\n",
       " 'BarbaraVincent',\n",
       " 'JustinMichaelWoods',\n",
       " 'JasonYee',\n",
       " 'MariaZambrana',\n",
       " 'JohnZion',\n",
       " 'AlexZiwak',\n",
       " 'TommyBayiokos',\n",
       " 'MatthewGooley',\n",
       " 'JeffMoffitt',\n",
       " 'MarkFalvo',\n",
       " 'DiogoHausen',\n",
       " 'GarySievers',\n",
       " 'OrionMcCabe',\n",
       " 'LondonMay',\n",
       " 'JamesQuinn',\n",
       " 'DanielNewman',\n",
       " 'HansZimmer',\n",
       " 'ChristopherNolan',\n",
       " 'ChristopherNolan',\n",
       " 'JonathanNolan']"
      ]
     },
     "execution_count": 36,
     "metadata": {},
     "output_type": "execute_result"
    }
   ],
   "source": [
    "movies['tags'][3]"
   ]
  },
  {
   "cell_type": "code",
   "execution_count": 37,
   "id": "359517ab",
   "metadata": {},
   "outputs": [
    {
     "data": {
      "text/plain": [
       "\"Following the death of District Attorney Harvey Dent, Batman assumes responsibility for Dent's crimes to protect the late attorney's reputation and is subsequently hunted by the Gotham City Police Department. Eight years later, Batman encounters the mysterious Selina Kyle and the villainous Bane, a new terrorist leader who overwhelms Gotham's finest. The Dark Knight resurfaces to protect a city that has branded him an enemy.\""
      ]
     },
     "execution_count": 37,
     "metadata": {},
     "output_type": "execute_result"
    }
   ],
   "source": [
    "movies[\"overview\"][3]"
   ]
  },
  {
   "cell_type": "code",
   "execution_count": 38,
   "id": "ce0846dd",
   "metadata": {},
   "outputs": [],
   "source": [
    "movies['overview'] = movies['overview'].apply(lambda x:x.split())"
   ]
  },
  {
   "cell_type": "code",
   "execution_count": 39,
   "id": "9ebfec11",
   "metadata": {},
   "outputs": [],
   "source": [
    "movies['tags']=movies['tags']+(movies[\"overview\"])"
   ]
  },
  {
   "cell_type": "code",
   "execution_count": 40,
   "id": "f164884e",
   "metadata": {},
   "outputs": [
    {
     "data": {
      "text/plain": [
       "['Action',\n",
       " 'Crime',\n",
       " 'Drama',\n",
       " 'Thriller',\n",
       " 'dccomics',\n",
       " 'crimefighter',\n",
       " 'terrorist',\n",
       " 'secretidentity',\n",
       " 'burglar',\n",
       " 'hostagedrama',\n",
       " 'timebomb',\n",
       " 'gothamcity',\n",
       " 'vigilante',\n",
       " 'cover-up',\n",
       " 'superhero',\n",
       " 'villainess',\n",
       " 'tragichero',\n",
       " 'terrorism',\n",
       " 'destruction',\n",
       " 'catwoman',\n",
       " 'catburglar',\n",
       " 'imax',\n",
       " 'flood',\n",
       " 'criminalunderworld',\n",
       " 'batman',\n",
       " 'ChristianBale',\n",
       " 'MichaelCaine',\n",
       " 'GaryOldman',\n",
       " 'AnneHathaway',\n",
       " 'TomHardy',\n",
       " 'MarionCotillard',\n",
       " 'JosephGordon-Levitt',\n",
       " 'MorganFreeman',\n",
       " 'CillianMurphy',\n",
       " 'JunoTemple',\n",
       " 'LiamNeeson',\n",
       " 'MatthewModine',\n",
       " 'AlonAboutboul',\n",
       " 'BenMendelsohn',\n",
       " 'NestorCarbonell',\n",
       " 'JoshPence',\n",
       " 'TomConti',\n",
       " 'JoeyKing',\n",
       " 'WarrenBrown',\n",
       " 'DanielSunjata',\n",
       " 'SamKennard',\n",
       " 'AliashTepina',\n",
       " 'NickJulian',\n",
       " 'MirandaNolan',\n",
       " 'ClaireJulien',\n",
       " 'AidanGillen',\n",
       " 'BurnGorman',\n",
       " 'BrettCullen',\n",
       " 'ReggieLee',\n",
       " 'JosephLyleTaylor',\n",
       " 'ChrisEllis',\n",
       " 'DuaneHenry',\n",
       " 'JamesHarveyWard',\n",
       " 'GonzaloMenendez',\n",
       " 'CameronJack',\n",
       " 'LexDaniel',\n",
       " 'TylerDeanFlores',\n",
       " 'ThomasLennon',\n",
       " 'TrevorWhite',\n",
       " 'RobBrown',\n",
       " 'FredricLehne',\n",
       " 'CourtneyMunch',\n",
       " 'ChrisHill',\n",
       " 'TravisGuba',\n",
       " 'JayBenedict',\n",
       " 'WillEstes',\n",
       " 'DavidDayanFisher',\n",
       " 'GlenPowell',\n",
       " 'RussFega',\n",
       " 'AndresPerez-Molina',\n",
       " 'BrentBriscoe',\n",
       " 'JohnNolan',\n",
       " 'OliverCotton',\n",
       " 'MarkKilleen',\n",
       " 'SarahGoldberg',\n",
       " 'JohnMacMillan',\n",
       " 'RobertWisdom',\n",
       " 'RonnieGeneBlevins',\n",
       " 'JohnHollingworth',\n",
       " 'IanBohen',\n",
       " 'UriGavriel',\n",
       " 'NoelGugliemi',\n",
       " 'HectorAtreyuRuiz',\n",
       " 'PatrickCox',\n",
       " 'AramisKnight',\n",
       " 'JoshStewart',\n",
       " 'WilliamDevane',\n",
       " 'DavidGyasi',\n",
       " 'PatrickJordan',\n",
       " 'JoshuaElijahReese',\n",
       " 'DesmondHarrington',\n",
       " 'MychaelBates',\n",
       " 'TomasArana',\n",
       " 'PeterHolden',\n",
       " 'DavidMonahan',\n",
       " 'JillianArmenante',\n",
       " 'AjaEvans',\n",
       " 'AldousDavidson',\n",
       " 'WadeWilliams',\n",
       " 'JakeCanuso',\n",
       " 'MassiFurlan',\n",
       " 'ChristopherJudge',\n",
       " 'PatrickLeahy',\n",
       " 'ToddGearhart',\n",
       " 'MarcAbbink',\n",
       " 'IsiahAdams',\n",
       " 'CharlieAlejandro',\n",
       " 'RobertArensen',\n",
       " 'GrantBabbitt',\n",
       " 'FileenaBahris',\n",
       " 'RickBolander',\n",
       " 'KylePatrickBrennan',\n",
       " 'ScottChurchson',\n",
       " 'BillCowher',\n",
       " 'GrahamCurry',\n",
       " 'StephanieDominiEhlert',\n",
       " 'JohnFarrer',\n",
       " 'FrankFata',\n",
       " 'ChristopherBryanGomez',\n",
       " 'VitoGrassi',\n",
       " 'MichaelWrenGucciardo',\n",
       " 'SamHarris',\n",
       " 'EdHeavey',\n",
       " 'JohnW.Iwanonkiw',\n",
       " 'CindyJackson',\n",
       " 'DanielJordano',\n",
       " 'WilliamKania',\n",
       " 'TiffanyKemp',\n",
       " 'SunJaeKim',\n",
       " 'HrvojeKlecz',\n",
       " 'AlexKruz',\n",
       " 'TylerLaMarr',\n",
       " 'LeJon',\n",
       " 'PaulJudeLetersky',\n",
       " 'JoeLipari',\n",
       " 'SilviaLombardo',\n",
       " 'JorgeMardel',\n",
       " 'CaleMcConnell',\n",
       " 'DavidDaleMcCue',\n",
       " 'TiffanySanderMcKenzie',\n",
       " 'AllenMerritt',\n",
       " 'OlanMontgomery',\n",
       " 'AlexMoore',\n",
       " 'ShaneNolan',\n",
       " 'JacksonNunn',\n",
       " \"JosephO'Brien\",\n",
       " 'MichaelPapajohn',\n",
       " 'SalomonPassariello',\n",
       " 'KyleDavidPierce',\n",
       " 'TroyPolamalu',\n",
       " 'MichaelPower',\n",
       " 'JamesRawlings',\n",
       " 'KirstenRoeters',\n",
       " 'BenRoethlisberger',\n",
       " 'MarkRoman',\n",
       " 'AnthonyJ.Sacco',\n",
       " 'EricSalazar',\n",
       " 'EmilySchooley',\n",
       " 'ThomasTull',\n",
       " 'ChrisVaina',\n",
       " 'VincentvanOmmen',\n",
       " 'MichelleVezzani',\n",
       " 'BarbaraVincent',\n",
       " 'JustinMichaelWoods',\n",
       " 'JasonYee',\n",
       " 'MariaZambrana',\n",
       " 'JohnZion',\n",
       " 'AlexZiwak',\n",
       " 'TommyBayiokos',\n",
       " 'MatthewGooley',\n",
       " 'JeffMoffitt',\n",
       " 'MarkFalvo',\n",
       " 'DiogoHausen',\n",
       " 'GarySievers',\n",
       " 'OrionMcCabe',\n",
       " 'LondonMay',\n",
       " 'JamesQuinn',\n",
       " 'DanielNewman',\n",
       " 'HansZimmer',\n",
       " 'ChristopherNolan',\n",
       " 'ChristopherNolan',\n",
       " 'JonathanNolan',\n",
       " 'Following',\n",
       " 'the',\n",
       " 'death',\n",
       " 'of',\n",
       " 'District',\n",
       " 'Attorney',\n",
       " 'Harvey',\n",
       " 'Dent,',\n",
       " 'Batman',\n",
       " 'assumes',\n",
       " 'responsibility',\n",
       " 'for',\n",
       " \"Dent's\",\n",
       " 'crimes',\n",
       " 'to',\n",
       " 'protect',\n",
       " 'the',\n",
       " 'late',\n",
       " \"attorney's\",\n",
       " 'reputation',\n",
       " 'and',\n",
       " 'is',\n",
       " 'subsequently',\n",
       " 'hunted',\n",
       " 'by',\n",
       " 'the',\n",
       " 'Gotham',\n",
       " 'City',\n",
       " 'Police',\n",
       " 'Department.',\n",
       " 'Eight',\n",
       " 'years',\n",
       " 'later,',\n",
       " 'Batman',\n",
       " 'encounters',\n",
       " 'the',\n",
       " 'mysterious',\n",
       " 'Selina',\n",
       " 'Kyle',\n",
       " 'and',\n",
       " 'the',\n",
       " 'villainous',\n",
       " 'Bane,',\n",
       " 'a',\n",
       " 'new',\n",
       " 'terrorist',\n",
       " 'leader',\n",
       " 'who',\n",
       " 'overwhelms',\n",
       " \"Gotham's\",\n",
       " 'finest.',\n",
       " 'The',\n",
       " 'Dark',\n",
       " 'Knight',\n",
       " 'resurfaces',\n",
       " 'to',\n",
       " 'protect',\n",
       " 'a',\n",
       " 'city',\n",
       " 'that',\n",
       " 'has',\n",
       " 'branded',\n",
       " 'him',\n",
       " 'an',\n",
       " 'enemy.']"
      ]
     },
     "execution_count": 40,
     "metadata": {},
     "output_type": "execute_result"
    }
   ],
   "source": [
    "movies['tags'][3]"
   ]
  },
  {
   "cell_type": "code",
   "execution_count": 41,
   "id": "4a9ac95a",
   "metadata": {},
   "outputs": [
    {
     "data": {
      "text/plain": [
       "['Following',\n",
       " 'the',\n",
       " 'death',\n",
       " 'of',\n",
       " 'District',\n",
       " 'Attorney',\n",
       " 'Harvey',\n",
       " 'Dent,',\n",
       " 'Batman',\n",
       " 'assumes',\n",
       " 'responsibility',\n",
       " 'for',\n",
       " \"Dent's\",\n",
       " 'crimes',\n",
       " 'to',\n",
       " 'protect',\n",
       " 'the',\n",
       " 'late',\n",
       " \"attorney's\",\n",
       " 'reputation',\n",
       " 'and',\n",
       " 'is',\n",
       " 'subsequently',\n",
       " 'hunted',\n",
       " 'by',\n",
       " 'the',\n",
       " 'Gotham',\n",
       " 'City',\n",
       " 'Police',\n",
       " 'Department.',\n",
       " 'Eight',\n",
       " 'years',\n",
       " 'later,',\n",
       " 'Batman',\n",
       " 'encounters',\n",
       " 'the',\n",
       " 'mysterious',\n",
       " 'Selina',\n",
       " 'Kyle',\n",
       " 'and',\n",
       " 'the',\n",
       " 'villainous',\n",
       " 'Bane,',\n",
       " 'a',\n",
       " 'new',\n",
       " 'terrorist',\n",
       " 'leader',\n",
       " 'who',\n",
       " 'overwhelms',\n",
       " \"Gotham's\",\n",
       " 'finest.',\n",
       " 'The',\n",
       " 'Dark',\n",
       " 'Knight',\n",
       " 'resurfaces',\n",
       " 'to',\n",
       " 'protect',\n",
       " 'a',\n",
       " 'city',\n",
       " 'that',\n",
       " 'has',\n",
       " 'branded',\n",
       " 'him',\n",
       " 'an',\n",
       " 'enemy.']"
      ]
     },
     "execution_count": 41,
     "metadata": {},
     "output_type": "execute_result"
    }
   ],
   "source": [
    "movies['overview'][3]"
   ]
  },
  {
   "cell_type": "code",
   "execution_count": 42,
   "id": "32e8406e",
   "metadata": {},
   "outputs": [],
   "source": [
    "movies['overview'] = movies['overview'].apply(lambda x: \" \".join(x))"
   ]
  },
  {
   "cell_type": "code",
   "execution_count": 43,
   "id": "76a1acdb",
   "metadata": {},
   "outputs": [
    {
     "data": {
      "text/plain": [
       "\"Following the death of District Attorney Harvey Dent, Batman assumes responsibility for Dent's crimes to protect the late attorney's reputation and is subsequently hunted by the Gotham City Police Department. Eight years later, Batman encounters the mysterious Selina Kyle and the villainous Bane, a new terrorist leader who overwhelms Gotham's finest. The Dark Knight resurfaces to protect a city that has branded him an enemy.\""
      ]
     },
     "execution_count": 43,
     "metadata": {},
     "output_type": "execute_result"
    }
   ],
   "source": [
    "movies['overview'][3]"
   ]
  },
  {
   "cell_type": "code",
   "execution_count": null,
   "id": "79694a4f",
   "metadata": {},
   "outputs": [],
   "source": []
  },
  {
   "cell_type": "code",
   "execution_count": null,
   "id": "bc4c60d0",
   "metadata": {},
   "outputs": [],
   "source": []
  },
  {
   "cell_type": "code",
   "execution_count": 44,
   "id": "3ea548d1",
   "metadata": {},
   "outputs": [],
   "source": [
    "new=movies[['movie_id','title','tags']]"
   ]
  },
  {
   "cell_type": "code",
   "execution_count": 45,
   "id": "2da7b59f",
   "metadata": {},
   "outputs": [
    {
     "data": {
      "text/plain": [
       "['Action',\n",
       " 'Crime',\n",
       " 'Drama',\n",
       " 'Thriller',\n",
       " 'dccomics',\n",
       " 'crimefighter',\n",
       " 'terrorist',\n",
       " 'secretidentity',\n",
       " 'burglar',\n",
       " 'hostagedrama',\n",
       " 'timebomb',\n",
       " 'gothamcity',\n",
       " 'vigilante',\n",
       " 'cover-up',\n",
       " 'superhero',\n",
       " 'villainess',\n",
       " 'tragichero',\n",
       " 'terrorism',\n",
       " 'destruction',\n",
       " 'catwoman',\n",
       " 'catburglar',\n",
       " 'imax',\n",
       " 'flood',\n",
       " 'criminalunderworld',\n",
       " 'batman',\n",
       " 'ChristianBale',\n",
       " 'MichaelCaine',\n",
       " 'GaryOldman',\n",
       " 'AnneHathaway',\n",
       " 'TomHardy',\n",
       " 'MarionCotillard',\n",
       " 'JosephGordon-Levitt',\n",
       " 'MorganFreeman',\n",
       " 'CillianMurphy',\n",
       " 'JunoTemple',\n",
       " 'LiamNeeson',\n",
       " 'MatthewModine',\n",
       " 'AlonAboutboul',\n",
       " 'BenMendelsohn',\n",
       " 'NestorCarbonell',\n",
       " 'JoshPence',\n",
       " 'TomConti',\n",
       " 'JoeyKing',\n",
       " 'WarrenBrown',\n",
       " 'DanielSunjata',\n",
       " 'SamKennard',\n",
       " 'AliashTepina',\n",
       " 'NickJulian',\n",
       " 'MirandaNolan',\n",
       " 'ClaireJulien',\n",
       " 'AidanGillen',\n",
       " 'BurnGorman',\n",
       " 'BrettCullen',\n",
       " 'ReggieLee',\n",
       " 'JosephLyleTaylor',\n",
       " 'ChrisEllis',\n",
       " 'DuaneHenry',\n",
       " 'JamesHarveyWard',\n",
       " 'GonzaloMenendez',\n",
       " 'CameronJack',\n",
       " 'LexDaniel',\n",
       " 'TylerDeanFlores',\n",
       " 'ThomasLennon',\n",
       " 'TrevorWhite',\n",
       " 'RobBrown',\n",
       " 'FredricLehne',\n",
       " 'CourtneyMunch',\n",
       " 'ChrisHill',\n",
       " 'TravisGuba',\n",
       " 'JayBenedict',\n",
       " 'WillEstes',\n",
       " 'DavidDayanFisher',\n",
       " 'GlenPowell',\n",
       " 'RussFega',\n",
       " 'AndresPerez-Molina',\n",
       " 'BrentBriscoe',\n",
       " 'JohnNolan',\n",
       " 'OliverCotton',\n",
       " 'MarkKilleen',\n",
       " 'SarahGoldberg',\n",
       " 'JohnMacMillan',\n",
       " 'RobertWisdom',\n",
       " 'RonnieGeneBlevins',\n",
       " 'JohnHollingworth',\n",
       " 'IanBohen',\n",
       " 'UriGavriel',\n",
       " 'NoelGugliemi',\n",
       " 'HectorAtreyuRuiz',\n",
       " 'PatrickCox',\n",
       " 'AramisKnight',\n",
       " 'JoshStewart',\n",
       " 'WilliamDevane',\n",
       " 'DavidGyasi',\n",
       " 'PatrickJordan',\n",
       " 'JoshuaElijahReese',\n",
       " 'DesmondHarrington',\n",
       " 'MychaelBates',\n",
       " 'TomasArana',\n",
       " 'PeterHolden',\n",
       " 'DavidMonahan',\n",
       " 'JillianArmenante',\n",
       " 'AjaEvans',\n",
       " 'AldousDavidson',\n",
       " 'WadeWilliams',\n",
       " 'JakeCanuso',\n",
       " 'MassiFurlan',\n",
       " 'ChristopherJudge',\n",
       " 'PatrickLeahy',\n",
       " 'ToddGearhart',\n",
       " 'MarcAbbink',\n",
       " 'IsiahAdams',\n",
       " 'CharlieAlejandro',\n",
       " 'RobertArensen',\n",
       " 'GrantBabbitt',\n",
       " 'FileenaBahris',\n",
       " 'RickBolander',\n",
       " 'KylePatrickBrennan',\n",
       " 'ScottChurchson',\n",
       " 'BillCowher',\n",
       " 'GrahamCurry',\n",
       " 'StephanieDominiEhlert',\n",
       " 'JohnFarrer',\n",
       " 'FrankFata',\n",
       " 'ChristopherBryanGomez',\n",
       " 'VitoGrassi',\n",
       " 'MichaelWrenGucciardo',\n",
       " 'SamHarris',\n",
       " 'EdHeavey',\n",
       " 'JohnW.Iwanonkiw',\n",
       " 'CindyJackson',\n",
       " 'DanielJordano',\n",
       " 'WilliamKania',\n",
       " 'TiffanyKemp',\n",
       " 'SunJaeKim',\n",
       " 'HrvojeKlecz',\n",
       " 'AlexKruz',\n",
       " 'TylerLaMarr',\n",
       " 'LeJon',\n",
       " 'PaulJudeLetersky',\n",
       " 'JoeLipari',\n",
       " 'SilviaLombardo',\n",
       " 'JorgeMardel',\n",
       " 'CaleMcConnell',\n",
       " 'DavidDaleMcCue',\n",
       " 'TiffanySanderMcKenzie',\n",
       " 'AllenMerritt',\n",
       " 'OlanMontgomery',\n",
       " 'AlexMoore',\n",
       " 'ShaneNolan',\n",
       " 'JacksonNunn',\n",
       " \"JosephO'Brien\",\n",
       " 'MichaelPapajohn',\n",
       " 'SalomonPassariello',\n",
       " 'KyleDavidPierce',\n",
       " 'TroyPolamalu',\n",
       " 'MichaelPower',\n",
       " 'JamesRawlings',\n",
       " 'KirstenRoeters',\n",
       " 'BenRoethlisberger',\n",
       " 'MarkRoman',\n",
       " 'AnthonyJ.Sacco',\n",
       " 'EricSalazar',\n",
       " 'EmilySchooley',\n",
       " 'ThomasTull',\n",
       " 'ChrisVaina',\n",
       " 'VincentvanOmmen',\n",
       " 'MichelleVezzani',\n",
       " 'BarbaraVincent',\n",
       " 'JustinMichaelWoods',\n",
       " 'JasonYee',\n",
       " 'MariaZambrana',\n",
       " 'JohnZion',\n",
       " 'AlexZiwak',\n",
       " 'TommyBayiokos',\n",
       " 'MatthewGooley',\n",
       " 'JeffMoffitt',\n",
       " 'MarkFalvo',\n",
       " 'DiogoHausen',\n",
       " 'GarySievers',\n",
       " 'OrionMcCabe',\n",
       " 'LondonMay',\n",
       " 'JamesQuinn',\n",
       " 'DanielNewman',\n",
       " 'HansZimmer',\n",
       " 'ChristopherNolan',\n",
       " 'ChristopherNolan',\n",
       " 'JonathanNolan',\n",
       " 'Following',\n",
       " 'the',\n",
       " 'death',\n",
       " 'of',\n",
       " 'District',\n",
       " 'Attorney',\n",
       " 'Harvey',\n",
       " 'Dent,',\n",
       " 'Batman',\n",
       " 'assumes',\n",
       " 'responsibility',\n",
       " 'for',\n",
       " \"Dent's\",\n",
       " 'crimes',\n",
       " 'to',\n",
       " 'protect',\n",
       " 'the',\n",
       " 'late',\n",
       " \"attorney's\",\n",
       " 'reputation',\n",
       " 'and',\n",
       " 'is',\n",
       " 'subsequently',\n",
       " 'hunted',\n",
       " 'by',\n",
       " 'the',\n",
       " 'Gotham',\n",
       " 'City',\n",
       " 'Police',\n",
       " 'Department.',\n",
       " 'Eight',\n",
       " 'years',\n",
       " 'later,',\n",
       " 'Batman',\n",
       " 'encounters',\n",
       " 'the',\n",
       " 'mysterious',\n",
       " 'Selina',\n",
       " 'Kyle',\n",
       " 'and',\n",
       " 'the',\n",
       " 'villainous',\n",
       " 'Bane,',\n",
       " 'a',\n",
       " 'new',\n",
       " 'terrorist',\n",
       " 'leader',\n",
       " 'who',\n",
       " 'overwhelms',\n",
       " \"Gotham's\",\n",
       " 'finest.',\n",
       " 'The',\n",
       " 'Dark',\n",
       " 'Knight',\n",
       " 'resurfaces',\n",
       " 'to',\n",
       " 'protect',\n",
       " 'a',\n",
       " 'city',\n",
       " 'that',\n",
       " 'has',\n",
       " 'branded',\n",
       " 'him',\n",
       " 'an',\n",
       " 'enemy.']"
      ]
     },
     "execution_count": 45,
     "metadata": {},
     "output_type": "execute_result"
    }
   ],
   "source": [
    "new['tags'][3]"
   ]
  },
  {
   "cell_type": "code",
   "execution_count": 46,
   "id": "56558e5b",
   "metadata": {},
   "outputs": [
    {
     "name": "stderr",
     "output_type": "stream",
     "text": [
      "C:\\Users\\HP\\AppData\\Local\\Temp\\ipykernel_6100\\2476029201.py:1: SettingWithCopyWarning: \n",
      "A value is trying to be set on a copy of a slice from a DataFrame.\n",
      "Try using .loc[row_indexer,col_indexer] = value instead\n",
      "\n",
      "See the caveats in the documentation: https://pandas.pydata.org/pandas-docs/stable/user_guide/indexing.html#returning-a-view-versus-a-copy\n",
      "  new[\"tags\"]=new[\"tags\"].apply(lambda x:[tag.lower() for tag in x])\n"
     ]
    }
   ],
   "source": [
    "new[\"tags\"]=new[\"tags\"].apply(lambda x:[tag.lower() for tag in x])"
   ]
  },
  {
   "cell_type": "code",
   "execution_count": 47,
   "id": "b0fb3be3",
   "metadata": {},
   "outputs": [
    {
     "data": {
      "text/plain": [
       "['action',\n",
       " 'crime',\n",
       " 'drama',\n",
       " 'thriller',\n",
       " 'dccomics',\n",
       " 'crimefighter',\n",
       " 'terrorist',\n",
       " 'secretidentity',\n",
       " 'burglar',\n",
       " 'hostagedrama',\n",
       " 'timebomb',\n",
       " 'gothamcity',\n",
       " 'vigilante',\n",
       " 'cover-up',\n",
       " 'superhero',\n",
       " 'villainess',\n",
       " 'tragichero',\n",
       " 'terrorism',\n",
       " 'destruction',\n",
       " 'catwoman',\n",
       " 'catburglar',\n",
       " 'imax',\n",
       " 'flood',\n",
       " 'criminalunderworld',\n",
       " 'batman',\n",
       " 'christianbale',\n",
       " 'michaelcaine',\n",
       " 'garyoldman',\n",
       " 'annehathaway',\n",
       " 'tomhardy',\n",
       " 'marioncotillard',\n",
       " 'josephgordon-levitt',\n",
       " 'morganfreeman',\n",
       " 'cillianmurphy',\n",
       " 'junotemple',\n",
       " 'liamneeson',\n",
       " 'matthewmodine',\n",
       " 'alonaboutboul',\n",
       " 'benmendelsohn',\n",
       " 'nestorcarbonell',\n",
       " 'joshpence',\n",
       " 'tomconti',\n",
       " 'joeyking',\n",
       " 'warrenbrown',\n",
       " 'danielsunjata',\n",
       " 'samkennard',\n",
       " 'aliashtepina',\n",
       " 'nickjulian',\n",
       " 'mirandanolan',\n",
       " 'clairejulien',\n",
       " 'aidangillen',\n",
       " 'burngorman',\n",
       " 'brettcullen',\n",
       " 'reggielee',\n",
       " 'josephlyletaylor',\n",
       " 'chrisellis',\n",
       " 'duanehenry',\n",
       " 'jamesharveyward',\n",
       " 'gonzalomenendez',\n",
       " 'cameronjack',\n",
       " 'lexdaniel',\n",
       " 'tylerdeanflores',\n",
       " 'thomaslennon',\n",
       " 'trevorwhite',\n",
       " 'robbrown',\n",
       " 'fredriclehne',\n",
       " 'courtneymunch',\n",
       " 'chrishill',\n",
       " 'travisguba',\n",
       " 'jaybenedict',\n",
       " 'willestes',\n",
       " 'daviddayanfisher',\n",
       " 'glenpowell',\n",
       " 'russfega',\n",
       " 'andresperez-molina',\n",
       " 'brentbriscoe',\n",
       " 'johnnolan',\n",
       " 'olivercotton',\n",
       " 'markkilleen',\n",
       " 'sarahgoldberg',\n",
       " 'johnmacmillan',\n",
       " 'robertwisdom',\n",
       " 'ronniegeneblevins',\n",
       " 'johnhollingworth',\n",
       " 'ianbohen',\n",
       " 'urigavriel',\n",
       " 'noelgugliemi',\n",
       " 'hectoratreyuruiz',\n",
       " 'patrickcox',\n",
       " 'aramisknight',\n",
       " 'joshstewart',\n",
       " 'williamdevane',\n",
       " 'davidgyasi',\n",
       " 'patrickjordan',\n",
       " 'joshuaelijahreese',\n",
       " 'desmondharrington',\n",
       " 'mychaelbates',\n",
       " 'tomasarana',\n",
       " 'peterholden',\n",
       " 'davidmonahan',\n",
       " 'jillianarmenante',\n",
       " 'ajaevans',\n",
       " 'aldousdavidson',\n",
       " 'wadewilliams',\n",
       " 'jakecanuso',\n",
       " 'massifurlan',\n",
       " 'christopherjudge',\n",
       " 'patrickleahy',\n",
       " 'toddgearhart',\n",
       " 'marcabbink',\n",
       " 'isiahadams',\n",
       " 'charliealejandro',\n",
       " 'robertarensen',\n",
       " 'grantbabbitt',\n",
       " 'fileenabahris',\n",
       " 'rickbolander',\n",
       " 'kylepatrickbrennan',\n",
       " 'scottchurchson',\n",
       " 'billcowher',\n",
       " 'grahamcurry',\n",
       " 'stephaniedominiehlert',\n",
       " 'johnfarrer',\n",
       " 'frankfata',\n",
       " 'christopherbryangomez',\n",
       " 'vitograssi',\n",
       " 'michaelwrengucciardo',\n",
       " 'samharris',\n",
       " 'edheavey',\n",
       " 'johnw.iwanonkiw',\n",
       " 'cindyjackson',\n",
       " 'danieljordano',\n",
       " 'williamkania',\n",
       " 'tiffanykemp',\n",
       " 'sunjaekim',\n",
       " 'hrvojeklecz',\n",
       " 'alexkruz',\n",
       " 'tylerlamarr',\n",
       " 'lejon',\n",
       " 'pauljudeletersky',\n",
       " 'joelipari',\n",
       " 'silvialombardo',\n",
       " 'jorgemardel',\n",
       " 'calemcconnell',\n",
       " 'daviddalemccue',\n",
       " 'tiffanysandermckenzie',\n",
       " 'allenmerritt',\n",
       " 'olanmontgomery',\n",
       " 'alexmoore',\n",
       " 'shanenolan',\n",
       " 'jacksonnunn',\n",
       " \"josepho'brien\",\n",
       " 'michaelpapajohn',\n",
       " 'salomonpassariello',\n",
       " 'kyledavidpierce',\n",
       " 'troypolamalu',\n",
       " 'michaelpower',\n",
       " 'jamesrawlings',\n",
       " 'kirstenroeters',\n",
       " 'benroethlisberger',\n",
       " 'markroman',\n",
       " 'anthonyj.sacco',\n",
       " 'ericsalazar',\n",
       " 'emilyschooley',\n",
       " 'thomastull',\n",
       " 'chrisvaina',\n",
       " 'vincentvanommen',\n",
       " 'michellevezzani',\n",
       " 'barbaravincent',\n",
       " 'justinmichaelwoods',\n",
       " 'jasonyee',\n",
       " 'mariazambrana',\n",
       " 'johnzion',\n",
       " 'alexziwak',\n",
       " 'tommybayiokos',\n",
       " 'matthewgooley',\n",
       " 'jeffmoffitt',\n",
       " 'markfalvo',\n",
       " 'diogohausen',\n",
       " 'garysievers',\n",
       " 'orionmccabe',\n",
       " 'londonmay',\n",
       " 'jamesquinn',\n",
       " 'danielnewman',\n",
       " 'hanszimmer',\n",
       " 'christophernolan',\n",
       " 'christophernolan',\n",
       " 'jonathannolan',\n",
       " 'following',\n",
       " 'the',\n",
       " 'death',\n",
       " 'of',\n",
       " 'district',\n",
       " 'attorney',\n",
       " 'harvey',\n",
       " 'dent,',\n",
       " 'batman',\n",
       " 'assumes',\n",
       " 'responsibility',\n",
       " 'for',\n",
       " \"dent's\",\n",
       " 'crimes',\n",
       " 'to',\n",
       " 'protect',\n",
       " 'the',\n",
       " 'late',\n",
       " \"attorney's\",\n",
       " 'reputation',\n",
       " 'and',\n",
       " 'is',\n",
       " 'subsequently',\n",
       " 'hunted',\n",
       " 'by',\n",
       " 'the',\n",
       " 'gotham',\n",
       " 'city',\n",
       " 'police',\n",
       " 'department.',\n",
       " 'eight',\n",
       " 'years',\n",
       " 'later,',\n",
       " 'batman',\n",
       " 'encounters',\n",
       " 'the',\n",
       " 'mysterious',\n",
       " 'selina',\n",
       " 'kyle',\n",
       " 'and',\n",
       " 'the',\n",
       " 'villainous',\n",
       " 'bane,',\n",
       " 'a',\n",
       " 'new',\n",
       " 'terrorist',\n",
       " 'leader',\n",
       " 'who',\n",
       " 'overwhelms',\n",
       " \"gotham's\",\n",
       " 'finest.',\n",
       " 'the',\n",
       " 'dark',\n",
       " 'knight',\n",
       " 'resurfaces',\n",
       " 'to',\n",
       " 'protect',\n",
       " 'a',\n",
       " 'city',\n",
       " 'that',\n",
       " 'has',\n",
       " 'branded',\n",
       " 'him',\n",
       " 'an',\n",
       " 'enemy.']"
      ]
     },
     "execution_count": 47,
     "metadata": {},
     "output_type": "execute_result"
    }
   ],
   "source": [
    "new['tags'][3]"
   ]
  },
  {
   "cell_type": "code",
   "execution_count": 48,
   "id": "8933006b",
   "metadata": {},
   "outputs": [
    {
     "name": "stderr",
     "output_type": "stream",
     "text": [
      "C:\\Users\\HP\\AppData\\Local\\Temp\\ipykernel_6100\\2535128523.py:1: SettingWithCopyWarning: \n",
      "A value is trying to be set on a copy of a slice from a DataFrame.\n",
      "Try using .loc[row_indexer,col_indexer] = value instead\n",
      "\n",
      "See the caveats in the documentation: https://pandas.pydata.org/pandas-docs/stable/user_guide/indexing.html#returning-a-view-versus-a-copy\n",
      "  new['tags']=new['tags'].apply(lambda x:\" \".join(x))\n"
     ]
    }
   ],
   "source": [
    "new['tags']=new['tags'].apply(lambda x:\" \".join(x))"
   ]
  },
  {
   "cell_type": "code",
   "execution_count": 49,
   "id": "db1b2221",
   "metadata": {},
   "outputs": [
    {
     "data": {
      "text/plain": [
       "\"action crime drama thriller dccomics crimefighter terrorist secretidentity burglar hostagedrama timebomb gothamcity vigilante cover-up superhero villainess tragichero terrorism destruction catwoman catburglar imax flood criminalunderworld batman christianbale michaelcaine garyoldman annehathaway tomhardy marioncotillard josephgordon-levitt morganfreeman cillianmurphy junotemple liamneeson matthewmodine alonaboutboul benmendelsohn nestorcarbonell joshpence tomconti joeyking warrenbrown danielsunjata samkennard aliashtepina nickjulian mirandanolan clairejulien aidangillen burngorman brettcullen reggielee josephlyletaylor chrisellis duanehenry jamesharveyward gonzalomenendez cameronjack lexdaniel tylerdeanflores thomaslennon trevorwhite robbrown fredriclehne courtneymunch chrishill travisguba jaybenedict willestes daviddayanfisher glenpowell russfega andresperez-molina brentbriscoe johnnolan olivercotton markkilleen sarahgoldberg johnmacmillan robertwisdom ronniegeneblevins johnhollingworth ianbohen urigavriel noelgugliemi hectoratreyuruiz patrickcox aramisknight joshstewart williamdevane davidgyasi patrickjordan joshuaelijahreese desmondharrington mychaelbates tomasarana peterholden davidmonahan jillianarmenante ajaevans aldousdavidson wadewilliams jakecanuso massifurlan christopherjudge patrickleahy toddgearhart marcabbink isiahadams charliealejandro robertarensen grantbabbitt fileenabahris rickbolander kylepatrickbrennan scottchurchson billcowher grahamcurry stephaniedominiehlert johnfarrer frankfata christopherbryangomez vitograssi michaelwrengucciardo samharris edheavey johnw.iwanonkiw cindyjackson danieljordano williamkania tiffanykemp sunjaekim hrvojeklecz alexkruz tylerlamarr lejon pauljudeletersky joelipari silvialombardo jorgemardel calemcconnell daviddalemccue tiffanysandermckenzie allenmerritt olanmontgomery alexmoore shanenolan jacksonnunn josepho'brien michaelpapajohn salomonpassariello kyledavidpierce troypolamalu michaelpower jamesrawlings kirstenroeters benroethlisberger markroman anthonyj.sacco ericsalazar emilyschooley thomastull chrisvaina vincentvanommen michellevezzani barbaravincent justinmichaelwoods jasonyee mariazambrana johnzion alexziwak tommybayiokos matthewgooley jeffmoffitt markfalvo diogohausen garysievers orionmccabe londonmay jamesquinn danielnewman hanszimmer christophernolan christophernolan jonathannolan following the death of district attorney harvey dent, batman assumes responsibility for dent's crimes to protect the late attorney's reputation and is subsequently hunted by the gotham city police department. eight years later, batman encounters the mysterious selina kyle and the villainous bane, a new terrorist leader who overwhelms gotham's finest. the dark knight resurfaces to protect a city that has branded him an enemy.\""
      ]
     },
     "execution_count": 49,
     "metadata": {},
     "output_type": "execute_result"
    }
   ],
   "source": [
    "new['tags'][3]"
   ]
  },
  {
   "cell_type": "code",
   "execution_count": 50,
   "id": "0fc0e8d5",
   "metadata": {},
   "outputs": [
    {
     "data": {
      "text/plain": [
       "2808"
      ]
     },
     "execution_count": 50,
     "metadata": {},
     "output_type": "execute_result"
    }
   ],
   "source": [
    "len(new['tags'][3])"
   ]
  },
  {
   "cell_type": "code",
   "execution_count": 51,
   "id": "7a62458b",
   "metadata": {},
   "outputs": [],
   "source": [
    "def removeDuplicate(text):\n",
    "    words=text.split()\n",
    "    y=[]\n",
    "    for i in words:\n",
    "        if i not in y:\n",
    "            y.append(i)\n",
    "    return \" \".join(y)"
   ]
  },
  {
   "cell_type": "code",
   "execution_count": 52,
   "id": "53e76256",
   "metadata": {},
   "outputs": [
    {
     "data": {
      "text/plain": [
       "\"action crime drama thriller dccomics crimefighter terrorist secretidentity burglar hostagedrama timebomb gothamcity vigilante cover-up superhero villainess tragichero terrorism destruction catwoman catburglar imax flood criminalunderworld batman christianbale michaelcaine garyoldman annehathaway tomhardy marioncotillard josephgordon-levitt morganfreeman cillianmurphy junotemple liamneeson matthewmodine alonaboutboul benmendelsohn nestorcarbonell joshpence tomconti joeyking warrenbrown danielsunjata samkennard aliashtepina nickjulian mirandanolan clairejulien aidangillen burngorman brettcullen reggielee josephlyletaylor chrisellis duanehenry jamesharveyward gonzalomenendez cameronjack lexdaniel tylerdeanflores thomaslennon trevorwhite robbrown fredriclehne courtneymunch chrishill travisguba jaybenedict willestes daviddayanfisher glenpowell russfega andresperez-molina brentbriscoe johnnolan olivercotton markkilleen sarahgoldberg johnmacmillan robertwisdom ronniegeneblevins johnhollingworth ianbohen urigavriel noelgugliemi hectoratreyuruiz patrickcox aramisknight joshstewart williamdevane davidgyasi patrickjordan joshuaelijahreese desmondharrington mychaelbates tomasarana peterholden davidmonahan jillianarmenante ajaevans aldousdavidson wadewilliams jakecanuso massifurlan christopherjudge patrickleahy toddgearhart marcabbink isiahadams charliealejandro robertarensen grantbabbitt fileenabahris rickbolander kylepatrickbrennan scottchurchson billcowher grahamcurry stephaniedominiehlert johnfarrer frankfata christopherbryangomez vitograssi michaelwrengucciardo samharris edheavey johnw.iwanonkiw cindyjackson danieljordano williamkania tiffanykemp sunjaekim hrvojeklecz alexkruz tylerlamarr lejon pauljudeletersky joelipari silvialombardo jorgemardel calemcconnell daviddalemccue tiffanysandermckenzie allenmerritt olanmontgomery alexmoore shanenolan jacksonnunn josepho'brien michaelpapajohn salomonpassariello kyledavidpierce troypolamalu michaelpower jamesrawlings kirstenroeters benroethlisberger markroman anthonyj.sacco ericsalazar emilyschooley thomastull chrisvaina vincentvanommen michellevezzani barbaravincent justinmichaelwoods jasonyee mariazambrana johnzion alexziwak tommybayiokos matthewgooley jeffmoffitt markfalvo diogohausen garysievers orionmccabe londonmay jamesquinn danielnewman hanszimmer christophernolan jonathannolan following the death of district attorney harvey dent, assumes responsibility for dent's crimes to protect late attorney's reputation and is subsequently hunted by gotham city police department. eight years later, encounters mysterious selina kyle villainous bane, a new leader who overwhelms gotham's finest. dark knight resurfaces that has branded him an enemy.\""
      ]
     },
     "execution_count": 52,
     "metadata": {},
     "output_type": "execute_result"
    }
   ],
   "source": [
    "removeDuplicate(\"action crime drama thriller dccomics crimefighter terrorist secretidentity burglar hostagedrama timebomb gothamcity vigilante cover-up superhero villainess tragichero terrorism destruction catwoman catburglar imax flood criminalunderworld batman christianbale michaelcaine garyoldman annehathaway tomhardy marioncotillard josephgordon-levitt morganfreeman cillianmurphy junotemple liamneeson matthewmodine alonaboutboul benmendelsohn nestorcarbonell joshpence tomconti joeyking warrenbrown danielsunjata samkennard aliashtepina nickjulian mirandanolan clairejulien aidangillen burngorman brettcullen reggielee josephlyletaylor chrisellis duanehenry jamesharveyward gonzalomenendez cameronjack lexdaniel tylerdeanflores thomaslennon trevorwhite robbrown fredriclehne courtneymunch chrishill travisguba jaybenedict willestes daviddayanfisher glenpowell russfega andresperez-molina brentbriscoe johnnolan olivercotton markkilleen sarahgoldberg johnmacmillan robertwisdom ronniegeneblevins johnhollingworth ianbohen urigavriel noelgugliemi hectoratreyuruiz patrickcox aramisknight joshstewart williamdevane davidgyasi patrickjordan joshuaelijahreese desmondharrington mychaelbates tomasarana peterholden davidmonahan jillianarmenante ajaevans aldousdavidson wadewilliams jakecanuso massifurlan christopherjudge patrickleahy toddgearhart marcabbink isiahadams charliealejandro robertarensen grantbabbitt fileenabahris rickbolander kylepatrickbrennan scottchurchson billcowher grahamcurry stephaniedominiehlert johnfarrer frankfata christopherbryangomez vitograssi michaelwrengucciardo samharris edheavey johnw.iwanonkiw cindyjackson danieljordano williamkania tiffanykemp sunjaekim hrvojeklecz alexkruz tylerlamarr lejon pauljudeletersky joelipari silvialombardo jorgemardel calemcconnell daviddalemccue tiffanysandermckenzie allenmerritt olanmontgomery alexmoore shanenolan jacksonnunn josepho'brien michaelpapajohn salomonpassariello kyledavidpierce troypolamalu michaelpower jamesrawlings kirstenroeters benroethlisberger markroman anthonyj.sacco ericsalazar emilyschooley thomastull chrisvaina vincentvanommen michellevezzani barbaravincent justinmichaelwoods jasonyee mariazambrana johnzion alexziwak tommybayiokos matthewgooley jeffmoffitt markfalvo diogohausen garysievers orionmccabe londonmay jamesquinn danielnewman hanszimmer christophernolan christophernolan jonathannolan following the death of district attorney harvey dent, batman assumes responsibility for dent's crimes to protect the late attorney's reputation and is subsequently hunted by the gotham city police department. eight years later, batman encounters the mysterious selina kyle and the villainous bane, a new terrorist leader who overwhelms gotham's finest. the dark knight resurfaces to protect a city that has branded him an enemy.\")"
   ]
  },
  {
   "cell_type": "code",
   "execution_count": 53,
   "id": "2f4b3a90",
   "metadata": {},
   "outputs": [
    {
     "name": "stderr",
     "output_type": "stream",
     "text": [
      "C:\\Users\\HP\\AppData\\Local\\Temp\\ipykernel_6100\\2289772012.py:1: SettingWithCopyWarning: \n",
      "A value is trying to be set on a copy of a slice from a DataFrame.\n",
      "Try using .loc[row_indexer,col_indexer] = value instead\n",
      "\n",
      "See the caveats in the documentation: https://pandas.pydata.org/pandas-docs/stable/user_guide/indexing.html#returning-a-view-versus-a-copy\n",
      "  new['tags']=new['tags'].apply(removeDuplicate)\n"
     ]
    }
   ],
   "source": [
    "new['tags']=new['tags'].apply(removeDuplicate)"
   ]
  },
  {
   "cell_type": "code",
   "execution_count": 54,
   "id": "7b757359",
   "metadata": {},
   "outputs": [
    {
     "data": {
      "text/plain": [
       "\"action crime drama thriller dccomics crimefighter terrorist secretidentity burglar hostagedrama timebomb gothamcity vigilante cover-up superhero villainess tragichero terrorism destruction catwoman catburglar imax flood criminalunderworld batman christianbale michaelcaine garyoldman annehathaway tomhardy marioncotillard josephgordon-levitt morganfreeman cillianmurphy junotemple liamneeson matthewmodine alonaboutboul benmendelsohn nestorcarbonell joshpence tomconti joeyking warrenbrown danielsunjata samkennard aliashtepina nickjulian mirandanolan clairejulien aidangillen burngorman brettcullen reggielee josephlyletaylor chrisellis duanehenry jamesharveyward gonzalomenendez cameronjack lexdaniel tylerdeanflores thomaslennon trevorwhite robbrown fredriclehne courtneymunch chrishill travisguba jaybenedict willestes daviddayanfisher glenpowell russfega andresperez-molina brentbriscoe johnnolan olivercotton markkilleen sarahgoldberg johnmacmillan robertwisdom ronniegeneblevins johnhollingworth ianbohen urigavriel noelgugliemi hectoratreyuruiz patrickcox aramisknight joshstewart williamdevane davidgyasi patrickjordan joshuaelijahreese desmondharrington mychaelbates tomasarana peterholden davidmonahan jillianarmenante ajaevans aldousdavidson wadewilliams jakecanuso massifurlan christopherjudge patrickleahy toddgearhart marcabbink isiahadams charliealejandro robertarensen grantbabbitt fileenabahris rickbolander kylepatrickbrennan scottchurchson billcowher grahamcurry stephaniedominiehlert johnfarrer frankfata christopherbryangomez vitograssi michaelwrengucciardo samharris edheavey johnw.iwanonkiw cindyjackson danieljordano williamkania tiffanykemp sunjaekim hrvojeklecz alexkruz tylerlamarr lejon pauljudeletersky joelipari silvialombardo jorgemardel calemcconnell daviddalemccue tiffanysandermckenzie allenmerritt olanmontgomery alexmoore shanenolan jacksonnunn josepho'brien michaelpapajohn salomonpassariello kyledavidpierce troypolamalu michaelpower jamesrawlings kirstenroeters benroethlisberger markroman anthonyj.sacco ericsalazar emilyschooley thomastull chrisvaina vincentvanommen michellevezzani barbaravincent justinmichaelwoods jasonyee mariazambrana johnzion alexziwak tommybayiokos matthewgooley jeffmoffitt markfalvo diogohausen garysievers orionmccabe londonmay jamesquinn danielnewman hanszimmer christophernolan jonathannolan following the death of district attorney harvey dent, assumes responsibility for dent's crimes to protect late attorney's reputation and is subsequently hunted by gotham city police department. eight years later, encounters mysterious selina kyle villainous bane, a new leader who overwhelms gotham's finest. dark knight resurfaces that has branded him an enemy.\""
      ]
     },
     "execution_count": 54,
     "metadata": {},
     "output_type": "execute_result"
    }
   ],
   "source": [
    "new['tags'][3]"
   ]
  },
  {
   "cell_type": "code",
   "execution_count": 55,
   "id": "d543fdb9",
   "metadata": {},
   "outputs": [],
   "source": [
    "#Text -----> Vectors"
   ]
  },
  {
   "cell_type": "code",
   "execution_count": 56,
   "id": "bf4ba511",
   "metadata": {},
   "outputs": [],
   "source": [
    "#TextVectorization"
   ]
  },
  {
   "cell_type": "code",
   "execution_count": 57,
   "id": "73aafd2d",
   "metadata": {},
   "outputs": [],
   "source": [
    "#Here we use Bag-of-Words"
   ]
  },
  {
   "cell_type": "code",
   "execution_count": 58,
   "id": "0c9a3564",
   "metadata": {},
   "outputs": [],
   "source": [
    "from sklearn.feature_extraction.text import CountVectorizer\n",
    "cv=CountVectorizer(max_features=5000,stop_words='english')"
   ]
  },
  {
   "cell_type": "code",
   "execution_count": 59,
   "id": "00244696",
   "metadata": {},
   "outputs": [],
   "source": [
    "vectors=cv.fit_transform(new['tags']).toarray()"
   ]
  },
  {
   "cell_type": "code",
   "execution_count": 60,
   "id": "f2f7afdc",
   "metadata": {},
   "outputs": [
    {
     "data": {
      "text/plain": [
       "array([[0, 0, 0, ..., 0, 0, 0],\n",
       "       [0, 0, 0, ..., 0, 0, 0],\n",
       "       [0, 0, 0, ..., 0, 0, 0],\n",
       "       ...,\n",
       "       [0, 0, 0, ..., 0, 0, 0],\n",
       "       [0, 0, 0, ..., 0, 0, 0],\n",
       "       [0, 0, 0, ..., 0, 0, 0]], dtype=int64)"
      ]
     },
     "execution_count": 60,
     "metadata": {},
     "output_type": "execute_result"
    }
   ],
   "source": [
    "vectors"
   ]
  },
  {
   "cell_type": "code",
   "execution_count": 61,
   "id": "871f071f",
   "metadata": {},
   "outputs": [
    {
     "data": {
      "text/plain": [
       "array([0, 0, 0, ..., 0, 0, 0], dtype=int64)"
      ]
     },
     "execution_count": 61,
     "metadata": {},
     "output_type": "execute_result"
    }
   ],
   "source": [
    "vectors[0]"
   ]
  },
  {
   "cell_type": "code",
   "execution_count": 62,
   "id": "4fa07ce1",
   "metadata": {},
   "outputs": [
    {
     "data": {
      "text/plain": [
       "(4806, 5000)"
      ]
     },
     "execution_count": 62,
     "metadata": {},
     "output_type": "execute_result"
    }
   ],
   "source": [
    "vectors.shape"
   ]
  },
  {
   "cell_type": "code",
   "execution_count": 63,
   "id": "7d93a99d",
   "metadata": {},
   "outputs": [
    {
     "data": {
      "text/plain": [
       "array(['000', '007', '10', ..., 'zoo', 'zooeydeschanel', 'zoëkravitz'],\n",
       "      dtype=object)"
      ]
     },
     "execution_count": 63,
     "metadata": {},
     "output_type": "execute_result"
    }
   ],
   "source": [
    "k=cv.get_feature_names_out()\n",
    "k"
   ]
  },
  {
   "cell_type": "code",
   "execution_count": 64,
   "id": "689010e3",
   "metadata": {},
   "outputs": [
    {
     "name": "stdout",
     "output_type": "stream",
     "text": [
      "Requirement already satisfied: nltk in c:\\users\\hp\\anaconda3\\lib\\site-packages (3.7)\n",
      "Requirement already satisfied: regex>=2021.8.3 in c:\\users\\hp\\anaconda3\\lib\\site-packages (from nltk) (2022.7.9)\n",
      "Requirement already satisfied: joblib in c:\\users\\hp\\anaconda3\\lib\\site-packages (from nltk) (1.1.1)\n",
      "Requirement already satisfied: click in c:\\users\\hp\\anaconda3\\lib\\site-packages (from nltk) (8.0.4)\n",
      "Requirement already satisfied: tqdm in c:\\users\\hp\\anaconda3\\lib\\site-packages (from nltk) (4.64.1)\n",
      "Requirement already satisfied: colorama in c:\\users\\hp\\anaconda3\\lib\\site-packages (from click->nltk) (0.4.6)\n"
     ]
    }
   ],
   "source": [
    "!pip install nltk"
   ]
  },
  {
   "cell_type": "code",
   "execution_count": 65,
   "id": "17a8088c",
   "metadata": {},
   "outputs": [],
   "source": [
    "import nltk"
   ]
  },
  {
   "cell_type": "code",
   "execution_count": 66,
   "id": "9261a4e4",
   "metadata": {},
   "outputs": [],
   "source": [
    "# Using Stemming for \n",
    "# ['Loved',\"loving \",\"Love\"] ---->\n",
    "# [\"Love\",\"Love\",\"Love\"]\n",
    "from nltk.stem.porter import PorterStemmer\n",
    "ps=PorterStemmer()"
   ]
  },
  {
   "cell_type": "code",
   "execution_count": 67,
   "id": "e164b5be",
   "metadata": {},
   "outputs": [
    {
     "data": {
      "text/plain": [
       "'love'"
      ]
     },
     "execution_count": 67,
     "metadata": {},
     "output_type": "execute_result"
    }
   ],
   "source": [
    "ps.stem('Loving')"
   ]
  },
  {
   "cell_type": "code",
   "execution_count": 68,
   "id": "a51e083e",
   "metadata": {},
   "outputs": [],
   "source": [
    "def stem(text):\n",
    "    y=[]\n",
    "    \n",
    "    for i in text.split():\n",
    "        y.append(ps.stem(i))\n",
    "        \n",
    "    return \" \".join(y)"
   ]
  },
  {
   "cell_type": "code",
   "execution_count": 69,
   "id": "31718255",
   "metadata": {},
   "outputs": [
    {
     "data": {
      "text/plain": [
       "'action crime drama thriller dccomic crimefight terrorist secretident burglar hostagedrama timebomb gothamc vigilant cover-up superhero villai tragichero terror destruct catwoman catburglar imax flood criminalunderworld batman christianbal michaelcain garyoldman annehathaway tomhardi marioncotillard josephgordon-levitt morganfreeman cillianmurphi junotempl liamneeson matthewmodin alonaboutboul benmendelsohn nestorcarbonel joshpenc tomconti joeyk warrenbrown danielsunjata samkennard aliashtepina nickjulian mirandanolan clairejulien aidangillen burngorman brettcullen reggiele josephlyletaylor chriselli duanehenri jamesharveyward gonzalomenendez cameronjack lexdaniel tylerdeanflor thomaslennon trevorwhit robbrown fredriclehn courtneymunch chrishil travisguba jaybenedict willest daviddayanfish glenpowel russfega andresperez-molina brentbrisco johnnolan olivercotton markkilleen sarahgoldberg johnmacmillan robertwisdom ronniegeneblevin johnhollingworth ianbohen urigavriel noelgugliemi hectoratreyuruiz patrickcox aramisknight joshstewart williamdevan davidgyasi patrickjordan joshuaelijahrees desmondharrington mychaelb tomasarana peterholden davidmonahan jillianarmenant ajaevan aldousdavidson wadewilliam jakecanuso massifurlan christopherjudg patrickleahi toddgearhart marcabbink isiahadam charliealejandro robertarensen grantbabbitt fileenabahri rickboland kylepatrickbrennan scottchurchson billcowh grahamcurri stephaniedominiehlert johnfarr frankfata christopherbryangomez vitograssi michaelwrengucciardo samharri edheavey johnw.iwanonkiw cindyjackson danieljordano williamkania tiffanykemp sunjaekim hrvojeklecz alexkruz tylerlamarr lejon pauljudeleterski joelipari silvialombardo jorgemardel calemcconnel daviddalemccu tiffanysandermckenzi allenmerritt olanmontgomeri alexmoor shanenolan jacksonnunn josepho brien michaelpapajohn salomonpassariello kyledavidpierc troypolamalu michaelpow jamesrawl kirstenroet benroethlisberg markroman anthonyj.sacco ericsalazar emilyschooley thomastul chrisvaina vincentvanommen michellevezzani barbaravinc justinmichaelwood jasonye mariazambrana johnzion alexziwak tommybayioko matthewgooley jeffmoffitt markfalvo diogohausen garysiev orionmccab londonmay jamesquinn danielnewman hanszimm christophernolan christophernolan jonathannolan follow the death of district attorney harvey dent, batman assum respons for dent crime to protect the late attorney reput and is subsequ hunt by the gotham citi polic department. eight year later, batman encount the mysteri selina kyle and the villain bane, a new terrorist leader who overwhelm gotham finest. the dark knight resurfac to protect a citi that ha brand him an enemy.'"
      ]
     },
     "execution_count": 69,
     "metadata": {},
     "output_type": "execute_result"
    }
   ],
   "source": [
    "stem('action crime drama thriller dccomics crimefighter terrorist secretidentity burglar hostagedrama timebomb gothamcity vigilante cover-up superhero villainess tragichero terrorism destruction catwoman catburglar imax flood criminalunderworld batman christianbale michaelcaine garyoldman annehathaway tomhardy marioncotillard josephgordon-levitt morganfreeman cillianmurphy junotemple liamneeson matthewmodine alonaboutboul benmendelsohn nestorcarbonell joshpence tomconti joeyking warrenbrown danielsunjata samkennard aliashtepina nickjulian mirandanolan clairejulien aidangillen burngorman brettcullen reggielee josephlyletaylor chrisellis duanehenry jamesharveyward gonzalomenendez cameronjack lexdaniel tylerdeanflores thomaslennon trevorwhite robbrown fredriclehne courtneymunch chrishill travisguba jaybenedict willestes daviddayanfisher glenpowell russfega andresperez-molina brentbriscoe johnnolan olivercotton markkilleen sarahgoldberg johnmacmillan robertwisdom ronniegeneblevins johnhollingworth ianbohen urigavriel noelgugliemi hectoratreyuruiz patrickcox aramisknight joshstewart williamdevane davidgyasi patrickjordan joshuaelijahreese desmondharrington mychaelbates tomasarana peterholden davidmonahan jillianarmenante ajaevans aldousdavidson wadewilliams jakecanuso massifurlan christopherjudge patrickleahy toddgearhart marcabbink isiahadams charliealejandro robertarensen grantbabbitt fileenabahris rickbolander kylepatrickbrennan scottchurchson billcowher grahamcurry stephaniedominiehlert johnfarrer frankfata christopherbryangomez vitograssi michaelwrengucciardo samharris edheavey johnw.iwanonkiw cindyjackson danieljordano williamkania tiffanykemp sunjaekim hrvojeklecz alexkruz tylerlamarr lejon pauljudeletersky joelipari silvialombardo jorgemardel calemcconnell daviddalemccue tiffanysandermckenzie allenmerritt olanmontgomery alexmoore shanenolan jacksonnunn josepho brien michaelpapajohn salomonpassariello kyledavidpierce troypolamalu michaelpower jamesrawlings kirstenroeters benroethlisberger markroman anthonyj.sacco ericsalazar emilyschooley thomastull chrisvaina vincentvanommen michellevezzani barbaravincent justinmichaelwoods jasonyee mariazambrana johnzion alexziwak tommybayiokos matthewgooley jeffmoffitt markfalvo diogohausen garysievers orionmccabe londonmay jamesquinn danielnewman hanszimmer christophernolan christophernolan jonathannolan following the death of district attorney harvey dent, batman assumes responsibility for dents crimes to protect the late attorneys reputation and is subsequently hunted by the gotham city police department. eight years later, batman encounters the mysterious selina kyle and the villainous bane, a new terrorist leader who overwhelms gothams finest. the dark knight resurfaces to protect a city that has branded him an enemy.')"
   ]
  },
  {
   "cell_type": "code",
   "execution_count": 70,
   "id": "6aa9e42e",
   "metadata": {},
   "outputs": [
    {
     "name": "stderr",
     "output_type": "stream",
     "text": [
      "C:\\Users\\HP\\AppData\\Local\\Temp\\ipykernel_6100\\2371542760.py:1: SettingWithCopyWarning: \n",
      "A value is trying to be set on a copy of a slice from a DataFrame.\n",
      "Try using .loc[row_indexer,col_indexer] = value instead\n",
      "\n",
      "See the caveats in the documentation: https://pandas.pydata.org/pandas-docs/stable/user_guide/indexing.html#returning-a-view-versus-a-copy\n",
      "  new['tags']=new['tags'].apply(stem)\n"
     ]
    }
   ],
   "source": [
    "new['tags']=new['tags'].apply(stem)"
   ]
  },
  {
   "cell_type": "code",
   "execution_count": 71,
   "id": "399fb32b",
   "metadata": {},
   "outputs": [
    {
     "data": {
      "text/plain": [
       "\"action crime drama thriller dccomic crimefight terrorist secretident burglar hostagedrama timebomb gothamc vigilant cover-up superhero villai tragichero terror destruct catwoman catburglar imax flood criminalunderworld batman christianbal michaelcain garyoldman annehathaway tomhardi marioncotillard josephgordon-levitt morganfreeman cillianmurphi junotempl liamneeson matthewmodin alonaboutboul benmendelsohn nestorcarbonel joshpenc tomconti joeyk warrenbrown danielsunjata samkennard aliashtepina nickjulian mirandanolan clairejulien aidangillen burngorman brettcullen reggiele josephlyletaylor chriselli duanehenri jamesharveyward gonzalomenendez cameronjack lexdaniel tylerdeanflor thomaslennon trevorwhit robbrown fredriclehn courtneymunch chrishil travisguba jaybenedict willest daviddayanfish glenpowel russfega andresperez-molina brentbrisco johnnolan olivercotton markkilleen sarahgoldberg johnmacmillan robertwisdom ronniegeneblevin johnhollingworth ianbohen urigavriel noelgugliemi hectoratreyuruiz patrickcox aramisknight joshstewart williamdevan davidgyasi patrickjordan joshuaelijahrees desmondharrington mychaelb tomasarana peterholden davidmonahan jillianarmenant ajaevan aldousdavidson wadewilliam jakecanuso massifurlan christopherjudg patrickleahi toddgearhart marcabbink isiahadam charliealejandro robertarensen grantbabbitt fileenabahri rickboland kylepatrickbrennan scottchurchson billcowh grahamcurri stephaniedominiehlert johnfarr frankfata christopherbryangomez vitograssi michaelwrengucciardo samharri edheavey johnw.iwanonkiw cindyjackson danieljordano williamkania tiffanykemp sunjaekim hrvojeklecz alexkruz tylerlamarr lejon pauljudeleterski joelipari silvialombardo jorgemardel calemcconnel daviddalemccu tiffanysandermckenzi allenmerritt olanmontgomeri alexmoor shanenolan jacksonnunn josepho'brien michaelpapajohn salomonpassariello kyledavidpierc troypolamalu michaelpow jamesrawl kirstenroet benroethlisberg markroman anthonyj.sacco ericsalazar emilyschooley thomastul chrisvaina vincentvanommen michellevezzani barbaravinc justinmichaelwood jasonye mariazambrana johnzion alexziwak tommybayioko matthewgooley jeffmoffitt markfalvo diogohausen garysiev orionmccab londonmay jamesquinn danielnewman hanszimm christophernolan jonathannolan follow the death of district attorney harvey dent, assum respons for dent' crime to protect late attorney' reput and is subsequ hunt by gotham citi polic department. eight year later, encount mysteri selina kyle villain bane, a new leader who overwhelm gotham' finest. dark knight resurfac that ha brand him an enemy.\""
      ]
     },
     "execution_count": 71,
     "metadata": {},
     "output_type": "execute_result"
    }
   ],
   "source": [
    "new['tags'][3]"
   ]
  },
  {
   "cell_type": "code",
   "execution_count": 72,
   "id": "d7c82608",
   "metadata": {},
   "outputs": [],
   "source": [
    "# Now we have vectors with us \n",
    "# We have a multi-dimensional features in vectors\n",
    "# To find similarity between two movies we will find the angle diff between two vectors\n",
    "# Cosine distance"
   ]
  },
  {
   "cell_type": "code",
   "execution_count": 73,
   "id": "b20854cd",
   "metadata": {},
   "outputs": [],
   "source": [
    "from sklearn.metrics.pairwise import cosine_similarity"
   ]
  },
  {
   "cell_type": "code",
   "execution_count": 74,
   "id": "32c1e307",
   "metadata": {},
   "outputs": [
    {
     "data": {
      "text/plain": [
       "array([[1.        , 0.07082882, 0.05195243, ..., 0.02632491, 0.02923527,\n",
       "        0.        ],\n",
       "       [0.07082882, 1.        , 0.07175473, ..., 0.02423931, 0.        ,\n",
       "        0.        ],\n",
       "       [0.05195243, 0.07175473, 1.        , ..., 0.02666904, 0.        ,\n",
       "        0.        ],\n",
       "       ...,\n",
       "       [0.02632491, 0.02423931, 0.02666904, ..., 1.        , 0.09004503,\n",
       "        0.06003002],\n",
       "       [0.02923527, 0.        , 0.        , ..., 0.09004503, 1.        ,\n",
       "        0.06666667],\n",
       "       [0.        , 0.        , 0.        , ..., 0.06003002, 0.06666667,\n",
       "        1.        ]])"
      ]
     },
     "execution_count": 74,
     "metadata": {},
     "output_type": "execute_result"
    }
   ],
   "source": [
    "similarity=cosine_similarity(vectors)\n",
    "similarity"
   ]
  },
  {
   "cell_type": "code",
   "execution_count": 75,
   "id": "6fa1c59f",
   "metadata": {},
   "outputs": [
    {
     "data": {
      "text/plain": [
       "(4806, 4806)"
      ]
     },
     "execution_count": 75,
     "metadata": {},
     "output_type": "execute_result"
    }
   ],
   "source": [
    "cosine_similarity(vectors).shape"
   ]
  },
  {
   "cell_type": "code",
   "execution_count": 76,
   "id": "4f7fc467",
   "metadata": {},
   "outputs": [
    {
     "data": {
      "text/plain": [
       "[(1444, 0.20672455764868075),\n",
       " (61, 0.19611613513818407),\n",
       " (4405, 0.18490006540840973),\n",
       " (495, 0.17902871850985821),\n",
       " (260, 0.17841031003501578),\n",
       " (322, 0.17722938923964168),\n",
       " (3327, 0.17118419700436519),\n",
       " (151, 0.1706971854997297),\n",
       " (466, 0.16984155512168936)]"
      ]
     },
     "execution_count": 76,
     "metadata": {},
     "output_type": "execute_result"
    }
   ],
   "source": [
    "sorted(list(enumerate(similarity[0])),reverse=True,key=lambda x:x[1])[1:10]\n",
    "\n",
    "       # Key significant that sort on basis on the 2nd set of values not the first"
   ]
  },
  {
   "cell_type": "code",
   "execution_count": 77,
   "id": "47aefd01",
   "metadata": {},
   "outputs": [],
   "source": [
    "# There are 4806 movies\n",
    "# Every movie has been compared to other 4805 movies"
   ]
  },
  {
   "cell_type": "markdown",
   "id": "11204186",
   "metadata": {},
   "source": [
    "We will find the \"index\" of the INPUT ,i.e., The name of movie\n",
    "and then we we go to that row and figure out"
   ]
  },
  {
   "cell_type": "code",
   "execution_count": 78,
   "id": "1f185738",
   "metadata": {},
   "outputs": [
    {
     "data": {
      "text/plain": [
       "119"
      ]
     },
     "execution_count": 78,
     "metadata": {},
     "output_type": "execute_result"
    }
   ],
   "source": [
    "new[new['title']=='Batman Begins'].index[0]"
   ]
  },
  {
   "cell_type": "code",
   "execution_count": 79,
   "id": "daa86341",
   "metadata": {},
   "outputs": [],
   "source": [
    "def recommend(movie):\n",
    "    movie_index=new[new['title']==movie].index[0]\n",
    "    distances = similarity[movie_index]\n",
    "    movies_list = sorted(list(enumerate(distances)),reverse=True,key=lambda x:x[1])[1:10]\n",
    "    \n",
    "    for i in movies_list:\n",
    "        print(new['title'][i[0]])\n",
    "       # Key significant that sort on basis on the 2nd set of values not the first\n",
    "    #"
   ]
  },
  {
   "cell_type": "code",
   "execution_count": 80,
   "id": "8bc77f60",
   "metadata": {},
   "outputs": [
    {
     "name": "stdout",
     "output_type": "stream",
     "text": [
      "The Dark Knight\n",
      "The Dark Knight Rises\n",
      "Batman\n",
      "Batman\n",
      "The Incredibly True Adventure of Two Girls In Love\n",
      "Batman v Superman: Dawn of Justice\n",
      "Batman & Robin\n",
      "The House of Sand\n",
      "Batman Forever\n"
     ]
    }
   ],
   "source": [
    "recommend('Batman Begins')"
   ]
  },
  {
   "cell_type": "code",
   "execution_count": 81,
   "id": "bc0856c9",
   "metadata": {},
   "outputs": [
    {
     "data": {
      "text/plain": [
       "'The Dark Knight Rises'"
      ]
     },
     "execution_count": 81,
     "metadata": {},
     "output_type": "execute_result"
    }
   ],
   "source": [
    "new['title'][3]"
   ]
  },
  {
   "cell_type": "code",
   "execution_count": 83,
   "id": "cd477d31",
   "metadata": {},
   "outputs": [],
   "source": [
    "new.to_csv(\"new\")"
   ]
  },
  {
   "cell_type": "code",
   "execution_count": 84,
   "id": "7dc5dbb7",
   "metadata": {},
   "outputs": [],
   "source": [
    "import pickle"
   ]
  },
  {
   "cell_type": "code",
   "execution_count": 85,
   "id": "84c29b80",
   "metadata": {},
   "outputs": [],
   "source": [
    "pickle.dump(similarity,open('similarity.pkl','wb'))"
   ]
  },
  {
   "cell_type": "code",
   "execution_count": null,
   "id": "16df8fce",
   "metadata": {},
   "outputs": [],
   "source": []
  }
 ],
 "metadata": {
  "kernelspec": {
   "display_name": "Python 3 (ipykernel)",
   "language": "python",
   "name": "python3"
  },
  "language_info": {
   "codemirror_mode": {
    "name": "ipython",
    "version": 3
   },
   "file_extension": ".py",
   "mimetype": "text/x-python",
   "name": "python",
   "nbconvert_exporter": "python",
   "pygments_lexer": "ipython3",
   "version": "3.10.9"
  }
 },
 "nbformat": 4,
 "nbformat_minor": 5
}
